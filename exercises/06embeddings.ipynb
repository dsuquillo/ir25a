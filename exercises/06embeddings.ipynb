{
 "cells": [
  {
   "cell_type": "markdown",
   "id": "d3f8b5c16e7eb563",
   "metadata": {},
   "source": [
    "# Ejercicio 6: Dense Retrieval e Introducción a FAISS\n",
    "\n",
    "## Objetivo de la práctica\n",
    "\n",
    "Generar embeddings con sentence-transformers (SBERT, E5), e indexar documentos con FAISS "
   ]
  },
  {
   "cell_type": "markdown",
   "id": "cdd69ed7fcbeef9d",
   "metadata": {},
   "source": [
    "## Parte 0: Carga del Corpus\n",
    "### Actividad\n",
    "\n",
    "1. Carga el corpus 20 Newsgroups desde sklearn.datasets.fetch_20newsgroups.\n",
    "2. Limita el corpus a los primeros 2000 documentos para facilitar el procesamiento."
   ]
  },
  {
   "cell_type": "code",
   "execution_count": 32,
   "id": "43d2dcc6",
   "metadata": {},
   "outputs": [],
   "source": [
    "from sentence_transformers import SentenceTransformer\n",
    "from sklearn.datasets import fetch_20newsgroups\n",
    "import numpy as np\n",
    "import faiss"
   ]
  },
  {
   "cell_type": "code",
   "execution_count": 33,
   "id": "b00fbde6cfc88b",
   "metadata": {},
   "outputs": [
    {
     "data": {
      "text/plain": [
       "(11314,)"
      ]
     },
     "execution_count": 33,
     "metadata": {},
     "output_type": "execute_result"
    }
   ],
   "source": [
    "# Fetch the 20 newsgroups dataset\n",
    "newsgroups = fetch_20newsgroups()\n",
    "newsgroups.filenames.shape"
   ]
  },
  {
   "cell_type": "code",
   "execution_count": 34,
   "id": "74b3557e",
   "metadata": {},
   "outputs": [
    {
     "name": "stdout",
     "output_type": "stream",
     "text": [
      "2000\n"
     ]
    }
   ],
   "source": [
    "# Fetch the first 2000 documents from the dataset\n",
    "docs_2000 = newsgroups.data[:2000]\n",
    "print(len(docs_2000))"
   ]
  },
  {
   "cell_type": "markdown",
   "id": "b9184f4b3e66e20a",
   "metadata": {},
   "source": [
    "## Parte 2: Generación de Embeddings\n",
    "### Actividad\n",
    "\n",
    "1. Usa dos modelos de sentence-transformers. Puedes usar: `'all-MiniLM-L6-v2'` (SBERT), o `'intfloat/e5-base'` (E5). Cuando uses E5, antepon `\"passage: \"` a cada documento antes de codificar.\n",
    "2. Genera los vectores de embeddings para todos los documentos usando el modelo seleccionado.\n",
    "3. Guarda los embeddings en un array de NumPy para su posterior indexación."
   ]
  },
  {
   "cell_type": "code",
   "execution_count": 35,
   "id": "525ae7515c6169d9",
   "metadata": {},
   "outputs": [
    {
     "name": "stderr",
     "output_type": "stream",
     "text": [
      "Batches: 100%|██████████| 63/63 [00:12<00:00,  5.01it/s]\n"
     ]
    }
   ],
   "source": [
    "# Load a pretrained Sentence Transformer model\n",
    "model_sbert = SentenceTransformer(\"all-MiniLM-L6-v2\")\n",
    "\n",
    "# Calculate embeddings by calling model.encode()\n",
    "embeddings_sbert = model_sbert.encode(docs_2000, show_progress_bar=True)\n",
    "\n",
    "# Store the embeddings in a array numpy\n",
    "embeddings_sbert_np = np.array(embeddings_sbert)"
   ]
  },
  {
   "cell_type": "code",
   "execution_count": 36,
   "id": "4c03726d",
   "metadata": {},
   "outputs": [
    {
     "name": "stderr",
     "output_type": "stream",
     "text": [
      "Batches: 100%|██████████| 32/32 [02:51<00:00,  5.35s/it]\n"
     ]
    }
   ],
   "source": [
    "# Load a pretrained E5 model\n",
    "model_e5 = SentenceTransformer(\"intfloat/e5-base\")\n",
    "\n",
    "# Prepare the documents for E5 model by adding a prefix (\"passage: \")\n",
    "docs_2000_e5 = [\"passage: \" + doc for doc in docs_2000]\n",
    "\n",
    "# Calculate embeddings for the E5 model\n",
    "embeddings_e5 = model_e5.encode(docs_2000_e5, show_progress_bar=True, batch_size=64)\n",
    "\n",
    "# Store the embeddings in a numpy array\n",
    "embeddings_e5_np = np.array(embeddings_e5)"
   ]
  },
  {
   "cell_type": "markdown",
   "id": "e53b50365064d2b1",
   "metadata": {},
   "source": [
    "## Parte 3: Indexación con FAISS\n",
    "### Actividad\n",
    "\n",
    "1. Crea un índice plano con faiss.IndexFlatL2 para búsquedas por distancia euclidiana.\n",
    "2. Asegúrate de usar la dimensión correcta `(embedding_dim = doc_embeddings.shape[1])`.\n",
    "3. Agrega los vectores de documentos al índice."
   ]
  },
  {
   "cell_type": "code",
   "execution_count": 38,
   "id": "96c723e6189ab1fd",
   "metadata": {},
   "outputs": [
    {
     "name": "stdout",
     "output_type": "stream",
     "text": [
      "True\n",
      "Number of vectors in the index: 2000\n"
     ]
    }
   ],
   "source": [
    "# Calculate dimensions of the embeddings\n",
    "embeddings_sbert_dim = embeddings_sbert_np.shape[1]\n",
    "\n",
    "# Create a FAISS index\n",
    "index_sbert = faiss.IndexFlatL2(embeddings_sbert_dim)\n",
    "\n",
    "# Required training for the index\n",
    "# (not needed for IndexFlatL2, but necessary for other types of indices)\n",
    "print(index_sbert.is_trained)\n",
    "\n",
    "# Add the embeddings to the index\n",
    "index_sbert.add(embeddings_sbert_np)\n",
    "print(f\"Number of vectors in the index: {index_sbert.ntotal}\")"
   ]
  },
  {
   "cell_type": "code",
   "execution_count": 39,
   "id": "6963aee3",
   "metadata": {},
   "outputs": [
    {
     "name": "stdout",
     "output_type": "stream",
     "text": [
      "Number of vectors in the E5 index: 2000\n"
     ]
    }
   ],
   "source": [
    "# Calculate dimensions of the E5 embeddings\n",
    "embeddings_e5_dim = embeddings_e5_np.shape[1]\n",
    "\n",
    "# Create a FAISS index for E5 embeddings\n",
    "index_e5 = faiss.IndexFlatL2(embeddings_e5_dim)\n",
    "\n",
    "# Add the E5 embeddings to the index\n",
    "index_e5.add(embeddings_e5_np)\n",
    "print(f\"Number of vectors in the E5 index: {index_e5.ntotal}\")"
   ]
  },
  {
   "cell_type": "markdown",
   "id": "40462a067ca2d379",
   "metadata": {},
   "source": [
    "## Parte 4: Consulta Semántica\n",
    "### Actividad\n",
    "\n",
    "1. Escribe una consulta en lenguaje natural. Ejemplos:\n",
    "\n",
    "    * \"God, religion, and spirituality\"\n",
    "    * \"space exploration\"\n",
    "    * \"car maintenance\"\n",
    "\n",
    "2. Codifica la consulta utilizando el mismo modelo de embeddings. Cuando uses E5, antepon `\"query: \"` a la consulta.\n",
    "3. Recupera los 5 documentos más relevantes con `index.search(...)`.\n",
    "4. Muestra los textos de los documentos recuperados (puedes mostrar solo los primeros 500 caracteres de cada uno)."
   ]
  },
  {
   "cell_type": "code",
   "execution_count": 40,
   "id": "aad085806124c709",
   "metadata": {},
   "outputs": [
    {
     "name": "stdout",
     "output_type": "stream",
     "text": [
      "Document 1214 (Distance: 1.1100):\n",
      "From: welty@cabot.balltown.cma.COM (richard welty)\n",
      "Subject: rec.autos: Welcome to to the new reader\n",
      "Keywords: Monthly Posting\n",
      "Reply-To: welty@balltown.cma.com\n",
      "Organization: New York State Institute for Sebastian Cabot Studies\n",
      "Expires: Thu, 20 May 1993 04:00:05 GMT\n",
      "Lines: 269\n",
      "\n",
      "Archive-name: rec-autos/part1\n",
      "\n",
      "[most recent changes, 15 March 1993: addition of alt.autos.karting -- rpw]\n",
      "\n",
      "               === Welcome to Rec.Autos.* ===\n",
      "\n",
      "This article is sent out automatically each month, and contains a gen\n",
      "--------------------------------------------------------------------------------\n",
      "Document 1766 (Distance: 1.3416):\n",
      "From: harmons@.WV.TEK.COM (Harmon Sommer)\n",
      "Subject: Re: BMW MOA members read this!\n",
      "Lines: 22\n",
      "\n",
      "Sender: \n",
      "Reply-To: harmons@gyro.WV.TEK.COM (Harmon Sommer)\n",
      "Distribution: \n",
      "Organization: /usr/ens/etc/organization\n",
      "Keywords: \n",
      "\n",
      "\n",
      ">>: As a new BMW owner I was thinking about signing up for the MOA, but\n",
      ">>: right now it is beginning to look suspiciously like throwing money\n",
      ">>: down a rathole.\n",
      "\n",
      ">>let my current membership lapse when it's\n",
      ">>up for renewal.\n",
      "\n",
      ">In my case that's not for another 3+ years, so I'd a\n",
      "--------------------------------------------------------------------------------\n",
      "Document 156 (Distance: 1.3741):\n",
      "From: (Eric Youngblood)\n",
      "Subject: Re: Old Corvettes / Low insurance?\n",
      "Reply-To: Peon w/o Email (Eric Youngblood)\n",
      "Nntp-Posting-Host: crchh435\n",
      "Organization: BNR, Inc.\n",
      "Lines: 47\n",
      "\n",
      "In article <1993Apr15.011805.28485@ns1.cc.lehigh.edu>, swr2@ns1.cc.lehigh.edu (SCOTT WARREN ROSANDER) writes:\n",
      "|> In article <C5Csux.Fn1@news.cso.uiuc.edu>, gdhg8823@uxa.cso.uiuc.edu (George Hei\n",
      "|> nz) writes:\n",
      "|> >After too many years of school I'm finally graduating and getting a real\n",
      "|> >job.  Of course I am trying to make \n",
      "--------------------------------------------------------------------------------\n",
      "Document 1494 (Distance: 1.4116):\n",
      "From: welty@cabot.balltown.cma.COM (richard welty)\n",
      "Subject: rec.autos: the Rec.Autos Archive Server \n",
      "Keywords: Monthly Posting\n",
      "Reply-To: welty@balltown.cma.com\n",
      "Organization: New York State Institute for Sebastian Cabot Studies\n",
      "Lines: 10\n",
      "\n",
      "Archive-name: rec-autos/part3\n",
      "\n",
      "The Automotive Articles Archive Server:\n",
      "\n",
      "the automotive archive server is in the process of being rehosted,\n",
      "and is presently not available.\n",
      "-- \n",
      "richard welty        518-393-7228       welty@cabot.balltown.cma.com\n",
      "``Nothing good has\n",
      "--------------------------------------------------------------------------------\n",
      "Document 405 (Distance: 1.4159):\n",
      "From: balsamo@stargl.enet.dec.com (Antonio L. Balsamo (Save the wails))\n",
      "Subject: Re: Advise needed in buying Automobile\n",
      "Reply-To: balsamo@stargl.enet.dec.com (Antonio L. Balsamo (Save the wails))\n",
      "Organization: Digital Equipment Corporation\n",
      "Lines: 20\n",
      "\n",
      "\n",
      "From: thwang@mentor.cc.purdue.edu (Tommy Hwang)\n",
      "Subject: Advise needed in buying Automobile\n",
      "\n",
      "   >I am in search of a dependable automobile to purchase.  Below\n",
      "   >are its requirements:\n",
      "   >\t5. V6 or above\n",
      "\n",
      "       Most of the cars you mentioned are \n",
      "--------------------------------------------------------------------------------\n"
     ]
    }
   ],
   "source": [
    "# Insert a query\n",
    "query_sbert = \"car maintenance\"\n",
    "\n",
    "# Encode the query using the same model\n",
    "query_embedding = model_sbert.encode([query_sbert])\n",
    "\n",
    "# Retrieve the top 5 most similar documents\n",
    "k = 5\n",
    "D, I = index_sbert.search(query_embedding, k)\n",
    "# D contains distances, I contains indices of the nearest neighbors\n",
    "\n",
    "# Print the results\n",
    "# Print only 500 characters of each document\n",
    "for i in range(k):\n",
    "    print(f\"Document {I[0][i]} (Distance: {D[0][i]:.4f}):\")\n",
    "    print(docs_2000[I[0][i]][:500])  # Print only the first 500 characters\n",
    "    print(\"-\" * 80)"
   ]
  },
  {
   "cell_type": "code",
   "execution_count": 42,
   "id": "431b02d3",
   "metadata": {},
   "outputs": [
    {
     "name": "stdout",
     "output_type": "stream",
     "text": [
      "Document 526 (Distance: 0.3950):\n",
      "From: al@qiclab.scn.rain.com (Alan Peterman)\n",
      "Subject: Re: \"ELECTRONIC\" ODOMETER\n",
      "Organization: SCN Research/Qic Laboratories of Tigard, Oregon.\n",
      "Lines: 24\n",
      "\n",
      "In article <C5Fp8B.2Co@megatest.com> alung@megatest.com (Aaron Lung) writes:\n",
      ">If I'm not mistaken, altering the odometer is *illegal*.  Furthermore,\n",
      ">I surmise it'll be tough to alter BMW's odometer if you got at it.\n",
      ">Some of the newer BMW's have electronic odometers making it even\n",
      ">more tamperproof.\n",
      "\n",
      "On the cars mentioned - 3 series from the l\n",
      "--------------------------------------------------------------------------------\n",
      "Document 64 (Distance: 0.3956):\n",
      "From: sjp@hpuerca.atl.hp.com (Steve Phillips)\n",
      "Subject: Re: Ford and the automobile\n",
      "Organization: Hewlett-Packard NARC Atlanta\n",
      "X-Newsreader: Tin 1.1.3 PL5\n",
      "Lines: 14\n",
      "\n",
      ": Ford and his automobile.  I need information on whether Ford is\n",
      ": partially responsible for all of the car accidents and the depletion of\n",
      ": the ozone layer.  Also, any other additional information will be greatly\n",
      ": appreciated.  Thanks. \n",
      ": \n",
      "SSSSSoooooooooooo!!!!! Its all HIS fault!! Thank God Louis Chevrolet is \n",
      "innocent! and that \n",
      "--------------------------------------------------------------------------------\n",
      "Document 73 (Distance: 0.4042):\n",
      "From: rdb1@cbnewsj.cb.att.com (ronald.j.deblock..jr)\n",
      "Subject: Re: Changing oil by self.\n",
      "Organization: AT&T\n",
      "Distribution: usa\n",
      "Keywords: n\n",
      "Lines: 19\n",
      "\n",
      "In article <1993Apr14.171718.18852@lmpsbbs.comm.mot.com> sheinfel@ssd.comm.mot.com (Aviad Sheinfeld) writes:\n",
      ">\n",
      ">>\tDo you think I can use a electric drill( change to a suitable\n",
      ">>bit ) to turn it out?  If I can succeed, can I re-tighten it not too\n",
      ">>tight, is it safe without oil leak?\n",
      ">\n",
      ">Tighten the bolt to the specified torque in your service manual.\n",
      "--------------------------------------------------------------------------------\n",
      "Document 1654 (Distance: 0.4081):\n",
      "From: rremaley@bcm.tmc.edu\n",
      "Subject: Re: $6700 for hail damage - a record?\n",
      "Organization: Baylor College of Medicine, Houston, Tx\n",
      "Lines: 8\n",
      "Distribution: usa\n",
      "NNTP-Posting-Host: 128.249.27.175\n",
      "\n",
      "I was in the great storm.....my Mazda MPV was damaged so bad they are \n",
      "going to replace the top, doors and hood. It is Black so they will repaint \n",
      "the entire vehicle...estimated cost around $7000 and repair time approx. 3 \n",
      "to 4 weeks.\n",
      "\n",
      "\n",
      "rremaley@bcm.tmc.edu\n",
      "\n",
      "\n",
      "--------------------------------------------------------------------------------\n",
      "Document 1224 (Distance: 0.4092):\n",
      "From: tcorkum@bnr.ca (Trevor Corkum)\n",
      "Subject: Is car saftey important? \n",
      "Nntp-Posting-Host: 47.141.0.88\n",
      "Reply-To: tcorkum@bnr.ca (Trevor Corkum)\n",
      "Organization: Bell-Northern Research Ltd.\n",
      "Lines: 11\n",
      "\n",
      "   I was recently thumbing through the 1993 Lemon-Aid New\n",
      "Car Guide.  What I found was a car would be given a 'Recommended'\n",
      "under the picture while a few sentences later noting how a\n",
      "driver and passenger were virtually guaranteed to be killed\n",
      "in a front end collision.  The most highly recommended small\n",
      "--------------------------------------------------------------------------------\n"
     ]
    }
   ],
   "source": [
    "# Insert a query for E5\n",
    "query_e5 = \"car maintenance\"\n",
    "\n",
    "# Encode the query using the E5 model\n",
    "# Note: E5 model requires a prefix \"query: \"\n",
    "query_embedding_e5 = model_e5.encode([\"query: \" + query_e5])\n",
    "\n",
    "# Retrieve the top 5 most similar documents from the E5 index\n",
    "D_e5, I_e5 = index_e5.search(query_embedding_e5, k)\n",
    "\n",
    "# Print the results for E5\n",
    "for i in range(k):\n",
    "    print(f\"Document {I_e5[0][i]} (Distance: {D_e5[0][i]:.4f}):\")\n",
    "    print(docs_2000[I_e5[0][i]][:500])  # Print only the first 500 characters\n",
    "    print(\"-\" * 80)"
   ]
  },
  {
   "cell_type": "markdown",
   "id": "2dc9e5e7815c7508",
   "metadata": {},
   "source": []
  }
 ],
 "metadata": {
  "kernelspec": {
   "display_name": "env",
   "language": "python",
   "name": "python3"
  },
  "language_info": {
   "codemirror_mode": {
    "name": "ipython",
    "version": 3
   },
   "file_extension": ".py",
   "mimetype": "text/x-python",
   "name": "python",
   "nbconvert_exporter": "python",
   "pygments_lexer": "ipython3",
   "version": "3.12.3"
  }
 },
 "nbformat": 4,
 "nbformat_minor": 5
}
