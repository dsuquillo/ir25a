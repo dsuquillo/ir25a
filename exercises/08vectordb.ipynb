{
  "cells": [
    {
      "cell_type": "markdown",
      "id": "7900d048bdae22eb",
      "metadata": {
        "id": "7900d048bdae22eb"
      },
      "source": [
        "# Ejercicio 8: Bases de Datos Vectoriales\n",
        "\n",
        "Las bases de datos vectoriales permiten almacenar y recuperar información representada como vectores en espacios de alta dimensión. Primero vamos a revisar los fundamentos matemáticos en los que se basan.\n",
        "\n",
        "## 1. Espacios Vectoriales\n",
        "\n",
        "Cada documento, imagen, o consulta se representa como un vector real en un espacio ℝ^n:\n",
        "\n",
        "$$ \\vec{d} = [d_1, d_2, \\dots, d_n] \\in \\mathbb{R}^n $$\n",
        "\n",
        "Donde $$ n $$ suele ser 384, 768 o 1536, dependiendo del modelo de embeddings utilizado."
      ]
    },
    {
      "cell_type": "code",
      "execution_count": 1,
      "id": "14uwzXtp4iVM",
      "metadata": {
        "id": "14uwzXtp4iVM"
      },
      "outputs": [],
      "source": [
        "from sklearn.datasets import fetch_20newsgroups\n",
        "import pandas as pd\n",
        "\n",
        "newsgroups = fetch_20newsgroups(subset='all', remove=('headers', 'footers', 'quotes'))\n",
        "newsgroupsdocs = newsgroups.data"
      ]
    },
    {
      "cell_type": "code",
      "execution_count": 2,
      "id": "ilNsILbo6AyE",
      "metadata": {
        "colab": {
          "base_uri": "https://localhost:8080/",
          "height": 424
        },
        "id": "ilNsILbo6AyE",
        "outputId": "86ea8173-9db0-4341-bbf1-8ba9ab640f40"
      },
      "outputs": [
        {
          "data": {
            "text/html": [
              "<div>\n",
              "<style scoped>\n",
              "    .dataframe tbody tr th:only-of-type {\n",
              "        vertical-align: middle;\n",
              "    }\n",
              "\n",
              "    .dataframe tbody tr th {\n",
              "        vertical-align: top;\n",
              "    }\n",
              "\n",
              "    .dataframe thead th {\n",
              "        text-align: right;\n",
              "    }\n",
              "</style>\n",
              "<table border=\"1\" class=\"dataframe\">\n",
              "  <thead>\n",
              "    <tr style=\"text-align: right;\">\n",
              "      <th></th>\n",
              "      <th>raw</th>\n",
              "    </tr>\n",
              "  </thead>\n",
              "  <tbody>\n",
              "    <tr>\n",
              "      <th>0</th>\n",
              "      <td>\\n\\nI am sure some bashers of Pens fans are pr...</td>\n",
              "    </tr>\n",
              "    <tr>\n",
              "      <th>1</th>\n",
              "      <td>My brother is in the market for a high-perform...</td>\n",
              "    </tr>\n",
              "    <tr>\n",
              "      <th>2</th>\n",
              "      <td>\\n\\n\\n\\n\\tFinally you said what you dream abou...</td>\n",
              "    </tr>\n",
              "    <tr>\n",
              "      <th>3</th>\n",
              "      <td>\\nThink!\\n\\nIt's the SCSI card doing the DMA t...</td>\n",
              "    </tr>\n",
              "    <tr>\n",
              "      <th>4</th>\n",
              "      <td>1)    I have an old Jasmine drive which I cann...</td>\n",
              "    </tr>\n",
              "    <tr>\n",
              "      <th>...</th>\n",
              "      <td>...</td>\n",
              "    </tr>\n",
              "    <tr>\n",
              "      <th>18841</th>\n",
              "      <td>DN&gt; From: nyeda@cnsvax.uwec.edu (David Nye)\\nD...</td>\n",
              "    </tr>\n",
              "    <tr>\n",
              "      <th>18842</th>\n",
              "      <td>\\nNot in isolated ground recepticles (usually ...</td>\n",
              "    </tr>\n",
              "    <tr>\n",
              "      <th>18843</th>\n",
              "      <td>I just installed a DX2-66 CPU in a clone mothe...</td>\n",
              "    </tr>\n",
              "    <tr>\n",
              "      <th>18844</th>\n",
              "      <td>\\nWouldn't this require a hyper-sphere.  In 3-...</td>\n",
              "    </tr>\n",
              "    <tr>\n",
              "      <th>18845</th>\n",
              "      <td>After a tip from Gary Crum (crum@fcom.cc.utah....</td>\n",
              "    </tr>\n",
              "  </tbody>\n",
              "</table>\n",
              "<p>18846 rows × 1 columns</p>\n",
              "</div>"
            ],
            "text/plain": [
              "                                                     raw\n",
              "0      \\n\\nI am sure some bashers of Pens fans are pr...\n",
              "1      My brother is in the market for a high-perform...\n",
              "2      \\n\\n\\n\\n\\tFinally you said what you dream abou...\n",
              "3      \\nThink!\\n\\nIt's the SCSI card doing the DMA t...\n",
              "4      1)    I have an old Jasmine drive which I cann...\n",
              "...                                                  ...\n",
              "18841  DN> From: nyeda@cnsvax.uwec.edu (David Nye)\\nD...\n",
              "18842  \\nNot in isolated ground recepticles (usually ...\n",
              "18843  I just installed a DX2-66 CPU in a clone mothe...\n",
              "18844  \\nWouldn't this require a hyper-sphere.  In 3-...\n",
              "18845  After a tip from Gary Crum (crum@fcom.cc.utah....\n",
              "\n",
              "[18846 rows x 1 columns]"
            ]
          },
          "execution_count": 2,
          "metadata": {},
          "output_type": "execute_result"
        }
      ],
      "source": [
        "newsgroupsdocs_df = pd.DataFrame(newsgroupsdocs, columns=['raw'])\n",
        "newsgroupsdocs_df"
      ]
    },
    {
      "cell_type": "code",
      "execution_count": 3,
      "id": "Eak3JGxJ6nac",
      "metadata": {
        "id": "Eak3JGxJ6nac"
      },
      "outputs": [],
      "source": [
        "from nltk.corpus import stopwords\n",
        "from nltk.tokenize import word_tokenize"
      ]
    },
    {
      "cell_type": "code",
      "execution_count": 4,
      "id": "0N6VThXZ8nHt",
      "metadata": {
        "colab": {
          "base_uri": "https://localhost:8080/"
        },
        "id": "0N6VThXZ8nHt",
        "outputId": "31f4670e-5139-48b3-e57d-34098fe4d366"
      },
      "outputs": [
        {
          "name": "stderr",
          "output_type": "stream",
          "text": [
            "[nltk_data] Downloading package stopwords to /home/murder/nltk_data...\n",
            "[nltk_data]   Package stopwords is already up-to-date!\n",
            "[nltk_data] Downloading package punkt_tab to /home/murder/nltk_data...\n",
            "[nltk_data]   Package punkt_tab is already up-to-date!\n"
          ]
        },
        {
          "data": {
            "text/plain": [
              "True"
            ]
          },
          "execution_count": 4,
          "metadata": {},
          "output_type": "execute_result"
        }
      ],
      "source": [
        "import nltk\n",
        "nltk.download('stopwords')\n",
        "nltk.download('punkt_tab')"
      ]
    },
    {
      "cell_type": "code",
      "execution_count": 5,
      "id": "5BsWrwnZBGOO",
      "metadata": {
        "id": "5BsWrwnZBGOO"
      },
      "outputs": [],
      "source": [
        "stopWords = set(stopwords.words('english'))"
      ]
    },
    {
      "cell_type": "code",
      "execution_count": 6,
      "id": "64aU8WTD6SH8",
      "metadata": {
        "id": "64aU8WTD6SH8"
      },
      "outputs": [],
      "source": [
        "def preprocess_doc(doc):\n",
        "  words = word_tokenize(doc)\n",
        "  wordsFiltered = [w for w in words if w not in stopWords and w.isalpha()]\n",
        "  return ' '.join(wordsFiltered)\n"
      ]
    },
    {
      "cell_type": "code",
      "execution_count": 7,
      "id": "99FCZdYp-RzF",
      "metadata": {
        "colab": {
          "base_uri": "https://localhost:8080/",
          "height": 424
        },
        "id": "99FCZdYp-RzF",
        "outputId": "09196579-e0fb-46e8-a6c1-3637759ba354"
      },
      "outputs": [
        {
          "data": {
            "text/html": [
              "<div>\n",
              "<style scoped>\n",
              "    .dataframe tbody tr th:only-of-type {\n",
              "        vertical-align: middle;\n",
              "    }\n",
              "\n",
              "    .dataframe tbody tr th {\n",
              "        vertical-align: top;\n",
              "    }\n",
              "\n",
              "    .dataframe thead th {\n",
              "        text-align: right;\n",
              "    }\n",
              "</style>\n",
              "<table border=\"1\" class=\"dataframe\">\n",
              "  <thead>\n",
              "    <tr style=\"text-align: right;\">\n",
              "      <th></th>\n",
              "      <th>raw</th>\n",
              "      <th>preprocessed</th>\n",
              "    </tr>\n",
              "  </thead>\n",
              "  <tbody>\n",
              "    <tr>\n",
              "      <th>0</th>\n",
              "      <td>\\n\\nI am sure some bashers of Pens fans are pr...</td>\n",
              "      <td>I sure bashers Pens fans pretty confused lack ...</td>\n",
              "    </tr>\n",
              "    <tr>\n",
              "      <th>1</th>\n",
              "      <td>My brother is in the market for a high-perform...</td>\n",
              "      <td>My brother market video card supports VESA loc...</td>\n",
              "    </tr>\n",
              "    <tr>\n",
              "      <th>2</th>\n",
              "      <td>\\n\\n\\n\\n\\tFinally you said what you dream abou...</td>\n",
              "      <td>Finally said dream Mediterranean That new The ...</td>\n",
              "    </tr>\n",
              "    <tr>\n",
              "      <th>3</th>\n",
              "      <td>\\nThink!\\n\\nIt's the SCSI card doing the DMA t...</td>\n",
              "      <td>Think It SCSI card DMA transfers NOT disks The...</td>\n",
              "    </tr>\n",
              "    <tr>\n",
              "      <th>4</th>\n",
              "      <td>1)    I have an old Jasmine drive which I cann...</td>\n",
              "      <td>I old Jasmine drive I use new system My unders...</td>\n",
              "    </tr>\n",
              "    <tr>\n",
              "      <th>...</th>\n",
              "      <td>...</td>\n",
              "      <td>...</td>\n",
              "    </tr>\n",
              "    <tr>\n",
              "      <th>18841</th>\n",
              "      <td>DN&gt; From: nyeda@cnsvax.uwec.edu (David Nye)\\nD...</td>\n",
              "      <td>DN From nyeda David Nye DN A neurology DN cons...</td>\n",
              "    </tr>\n",
              "    <tr>\n",
              "      <th>18842</th>\n",
              "      <td>\\nNot in isolated ground recepticles (usually ...</td>\n",
              "      <td>Not isolated ground recepticles usually unusua...</td>\n",
              "    </tr>\n",
              "    <tr>\n",
              "      <th>18843</th>\n",
              "      <td>I just installed a DX2-66 CPU in a clone mothe...</td>\n",
              "      <td>I installed CPU clone motherboard tried mounti...</td>\n",
              "    </tr>\n",
              "    <tr>\n",
              "      <th>18844</th>\n",
              "      <td>\\nWouldn't this require a hyper-sphere.  In 3-...</td>\n",
              "      <td>Would require In points specifies sphere far I...</td>\n",
              "    </tr>\n",
              "    <tr>\n",
              "      <th>18845</th>\n",
              "      <td>After a tip from Gary Crum (crum@fcom.cc.utah....</td>\n",
              "      <td>After tip Gary Crum crum I got Phone Pontiac S...</td>\n",
              "    </tr>\n",
              "  </tbody>\n",
              "</table>\n",
              "<p>18846 rows × 2 columns</p>\n",
              "</div>"
            ],
            "text/plain": [
              "                                                     raw  \\\n",
              "0      \\n\\nI am sure some bashers of Pens fans are pr...   \n",
              "1      My brother is in the market for a high-perform...   \n",
              "2      \\n\\n\\n\\n\\tFinally you said what you dream abou...   \n",
              "3      \\nThink!\\n\\nIt's the SCSI card doing the DMA t...   \n",
              "4      1)    I have an old Jasmine drive which I cann...   \n",
              "...                                                  ...   \n",
              "18841  DN> From: nyeda@cnsvax.uwec.edu (David Nye)\\nD...   \n",
              "18842  \\nNot in isolated ground recepticles (usually ...   \n",
              "18843  I just installed a DX2-66 CPU in a clone mothe...   \n",
              "18844  \\nWouldn't this require a hyper-sphere.  In 3-...   \n",
              "18845  After a tip from Gary Crum (crum@fcom.cc.utah....   \n",
              "\n",
              "                                            preprocessed  \n",
              "0      I sure bashers Pens fans pretty confused lack ...  \n",
              "1      My brother market video card supports VESA loc...  \n",
              "2      Finally said dream Mediterranean That new The ...  \n",
              "3      Think It SCSI card DMA transfers NOT disks The...  \n",
              "4      I old Jasmine drive I use new system My unders...  \n",
              "...                                                  ...  \n",
              "18841  DN From nyeda David Nye DN A neurology DN cons...  \n",
              "18842  Not isolated ground recepticles usually unusua...  \n",
              "18843  I installed CPU clone motherboard tried mounti...  \n",
              "18844  Would require In points specifies sphere far I...  \n",
              "18845  After tip Gary Crum crum I got Phone Pontiac S...  \n",
              "\n",
              "[18846 rows x 2 columns]"
            ]
          },
          "execution_count": 7,
          "metadata": {},
          "output_type": "execute_result"
        }
      ],
      "source": [
        "newsgroupsdocs_df['preprocessed'] = newsgroupsdocs_df['raw'].apply(preprocess_doc)\n",
        "newsgroupsdocs_df"
      ]
    },
    {
      "cell_type": "code",
      "execution_count": null,
      "id": "xLOdpm9mAtRx",
      "metadata": {
        "colab": {
          "base_uri": "https://localhost:8080/",
          "height": 637
        },
        "id": "xLOdpm9mAtRx",
        "outputId": "85678cc0-4d15-44c6-de00-5be3a2a8795d"
      },
      "outputs": [
        {
          "name": "stdout",
          "output_type": "stream",
          "text": [
            "Collecting gensim\n",
            "  Downloading gensim-4.3.3-cp311-cp311-manylinux_2_17_x86_64.manylinux2014_x86_64.whl.metadata (8.1 kB)\n",
            "Collecting numpy<2.0,>=1.18.5 (from gensim)\n",
            "  Downloading numpy-1.26.4-cp311-cp311-manylinux_2_17_x86_64.manylinux2014_x86_64.whl.metadata (61 kB)\n",
            "\u001b[2K     \u001b[90m━━━━━━━━━━━━━━━━━━━━━━━━━━━━━━━━━━━━━━━━\u001b[0m \u001b[32m61.0/61.0 kB\u001b[0m \u001b[31m2.4 MB/s\u001b[0m eta \u001b[36m0:00:00\u001b[0m\n",
            "\u001b[?25hCollecting scipy<1.14.0,>=1.7.0 (from gensim)\n",
            "  Downloading scipy-1.13.1-cp311-cp311-manylinux_2_17_x86_64.manylinux2014_x86_64.whl.metadata (60 kB)\n",
            "\u001b[2K     \u001b[90m━━━━━━━━━━━━━━━━━━━━━━━━━━━━━━━━━━━━━━━━\u001b[0m \u001b[32m60.6/60.6 kB\u001b[0m \u001b[31m3.9 MB/s\u001b[0m eta \u001b[36m0:00:00\u001b[0m\n",
            "\u001b[?25hRequirement already satisfied: smart-open>=1.8.1 in /usr/local/lib/python3.11/dist-packages (from gensim) (7.1.0)\n",
            "Requirement already satisfied: wrapt in /usr/local/lib/python3.11/dist-packages (from smart-open>=1.8.1->gensim) (1.17.2)\n",
            "Downloading gensim-4.3.3-cp311-cp311-manylinux_2_17_x86_64.manylinux2014_x86_64.whl (26.7 MB)\n",
            "\u001b[2K   \u001b[90m━━━━━━━━━━━━━━━━━━━━━━━━━━━━━━━━━━━━━━━━\u001b[0m \u001b[32m26.7/26.7 MB\u001b[0m \u001b[31m74.5 MB/s\u001b[0m eta \u001b[36m0:00:00\u001b[0m\n",
            "\u001b[?25hDownloading numpy-1.26.4-cp311-cp311-manylinux_2_17_x86_64.manylinux2014_x86_64.whl (18.3 MB)\n",
            "\u001b[2K   \u001b[90m━━━━━━━━━━━━━━━━━━━━━━━━━━━━━━━━━━━━━━━━\u001b[0m \u001b[32m18.3/18.3 MB\u001b[0m \u001b[31m85.6 MB/s\u001b[0m eta \u001b[36m0:00:00\u001b[0m\n",
            "\u001b[?25hDownloading scipy-1.13.1-cp311-cp311-manylinux_2_17_x86_64.manylinux2014_x86_64.whl (38.6 MB)\n",
            "\u001b[2K   \u001b[90m━━━━━━━━━━━━━━━━━━━━━━━━━━━━━━━━━━━━━━━━\u001b[0m \u001b[32m38.6/38.6 MB\u001b[0m \u001b[31m16.0 MB/s\u001b[0m eta \u001b[36m0:00:00\u001b[0m\n",
            "\u001b[?25hInstalling collected packages: numpy, scipy, gensim\n",
            "  Attempting uninstall: numpy\n",
            "    Found existing installation: numpy 2.0.2\n",
            "    Uninstalling numpy-2.0.2:\n",
            "      Successfully uninstalled numpy-2.0.2\n",
            "  Attempting uninstall: scipy\n",
            "    Found existing installation: scipy 1.15.3\n",
            "    Uninstalling scipy-1.15.3:\n",
            "      Successfully uninstalled scipy-1.15.3\n",
            "\u001b[31mERROR: pip's dependency resolver does not currently take into account all the packages that are installed. This behaviour is the source of the following dependency conflicts.\n",
            "tsfresh 0.21.0 requires scipy>=1.14.0; python_version >= \"3.10\", but you have scipy 1.13.1 which is incompatible.\n",
            "thinc 8.3.6 requires numpy<3.0.0,>=2.0.0, but you have numpy 1.26.4 which is incompatible.\u001b[0m\u001b[31m\n",
            "\u001b[0mSuccessfully installed gensim-4.3.3 numpy-1.26.4 scipy-1.13.1\n"
          ]
        },
        {
          "data": {
            "application/vnd.colab-display-data+json": {
              "id": "d554da4161654ab48597fd4e9213ace2",
              "pip_warning": {
                "packages": [
                  "numpy",
                  "scipy"
                ]
              }
            }
          },
          "metadata": {},
          "output_type": "display_data"
        }
      ],
      "source": [
        "!pip install gensim"
      ]
    },
    {
      "cell_type": "code",
      "execution_count": 8,
      "id": "px_tv3FiAVv-",
      "metadata": {
        "id": "px_tv3FiAVv-"
      },
      "outputs": [],
      "source": [
        "import gensim.downloader as api\n",
        "import numpy as np"
      ]
    },
    {
      "cell_type": "code",
      "execution_count": 9,
      "id": "X14M8TwwA6we",
      "metadata": {
        "colab": {
          "base_uri": "https://localhost:8080/"
        },
        "id": "X14M8TwwA6we",
        "outputId": "ab7144d8-382b-4021-afea-ab051e771868"
      },
      "outputs": [],
      "source": [
        "model = api.load('word2vec-google-news-300')"
      ]
    },
    {
      "cell_type": "code",
      "execution_count": 19,
      "id": "X6VSF2ACBO1u",
      "metadata": {
        "id": "X6VSF2ACBO1u"
      },
      "outputs": [],
      "source": [
        "def embedding_doc(doc):\n",
        "  words = word_tokenize(doc)\n",
        "  # validate if word in model\n",
        "\n",
        "  vec_words = [model[word] for word in words if word in model]\n",
        "  # calculate avg\n",
        "  if vec_words:\n",
        "    return np.mean(vec_words, axis=0)\n",
        "  else:\n",
        "    # Vector de ceros del mismo tamaño que los embeddings del modelo\n",
        "    return np.zeros(model.vector_size)"
      ]
    },
    {
      "cell_type": "markdown",
      "id": "V2kVwqtiFbPn",
      "metadata": {
        "id": "V2kVwqtiFbPn"
      },
      "source": []
    },
    {
      "cell_type": "code",
      "execution_count": 20,
      "id": "TzAI_QPADf9O",
      "metadata": {
        "colab": {
          "base_uri": "https://localhost:8080/",
          "height": 493
        },
        "id": "TzAI_QPADf9O",
        "outputId": "14f64056-ca81-4cda-eac0-a1152f89dedd"
      },
      "outputs": [
        {
          "data": {
            "text/html": [
              "<div>\n",
              "<style scoped>\n",
              "    .dataframe tbody tr th:only-of-type {\n",
              "        vertical-align: middle;\n",
              "    }\n",
              "\n",
              "    .dataframe tbody tr th {\n",
              "        vertical-align: top;\n",
              "    }\n",
              "\n",
              "    .dataframe thead th {\n",
              "        text-align: right;\n",
              "    }\n",
              "</style>\n",
              "<table border=\"1\" class=\"dataframe\">\n",
              "  <thead>\n",
              "    <tr style=\"text-align: right;\">\n",
              "      <th></th>\n",
              "      <th>raw</th>\n",
              "      <th>preprocessed</th>\n",
              "      <th>embedding</th>\n",
              "    </tr>\n",
              "  </thead>\n",
              "  <tbody>\n",
              "    <tr>\n",
              "      <th>0</th>\n",
              "      <td>\\n\\nI am sure some bashers of Pens fans are pr...</td>\n",
              "      <td>I sure bashers Pens fans pretty confused lack ...</td>\n",
              "      <td>[0.044840634, 0.042145394, -0.0068237716, 0.11...</td>\n",
              "    </tr>\n",
              "    <tr>\n",
              "      <th>1</th>\n",
              "      <td>My brother is in the market for a high-perform...</td>\n",
              "      <td>My brother market video card supports VESA loc...</td>\n",
              "      <td>[-0.055559713, -0.015373476, 0.02511609, 0.018...</td>\n",
              "    </tr>\n",
              "    <tr>\n",
              "      <th>2</th>\n",
              "      <td>\\n\\n\\n\\n\\tFinally you said what you dream abou...</td>\n",
              "      <td>Finally said dream Mediterranean That new The ...</td>\n",
              "      <td>[0.04519834, -0.0076894974, 0.1272826, 0.09746...</td>\n",
              "    </tr>\n",
              "    <tr>\n",
              "      <th>3</th>\n",
              "      <td>\\nThink!\\n\\nIt's the SCSI card doing the DMA t...</td>\n",
              "      <td>Think It SCSI card DMA transfers NOT disks The...</td>\n",
              "      <td>[0.012831859, 0.0052521536, 0.0058194674, 0.01...</td>\n",
              "    </tr>\n",
              "    <tr>\n",
              "      <th>4</th>\n",
              "      <td>1)    I have an old Jasmine drive which I cann...</td>\n",
              "      <td>I old Jasmine drive I use new system My unders...</td>\n",
              "      <td>[0.049170937, 0.0056467694, 0.04843648, 0.0792...</td>\n",
              "    </tr>\n",
              "    <tr>\n",
              "      <th>...</th>\n",
              "      <td>...</td>\n",
              "      <td>...</td>\n",
              "      <td>...</td>\n",
              "    </tr>\n",
              "    <tr>\n",
              "      <th>18841</th>\n",
              "      <td>DN&gt; From: nyeda@cnsvax.uwec.edu (David Nye)\\nD...</td>\n",
              "      <td>DN From nyeda David Nye DN A neurology DN cons...</td>\n",
              "      <td>[-0.011498247, 0.085058756, 0.00591256, 0.0744...</td>\n",
              "    </tr>\n",
              "    <tr>\n",
              "      <th>18842</th>\n",
              "      <td>\\nNot in isolated ground recepticles (usually ...</td>\n",
              "      <td>Not isolated ground recepticles usually unusua...</td>\n",
              "      <td>[0.030495537, -0.00055185956, -0.038831923, 0....</td>\n",
              "    </tr>\n",
              "    <tr>\n",
              "      <th>18843</th>\n",
              "      <td>I just installed a DX2-66 CPU in a clone mothe...</td>\n",
              "      <td>I installed CPU clone motherboard tried mounti...</td>\n",
              "      <td>[0.004587446, -0.004250663, 0.017289298, 0.091...</td>\n",
              "    </tr>\n",
              "    <tr>\n",
              "      <th>18844</th>\n",
              "      <td>\\nWouldn't this require a hyper-sphere.  In 3-...</td>\n",
              "      <td>Would require In points specifies sphere far I...</td>\n",
              "      <td>[-0.015062968, -0.004964193, 0.06576029, 0.107...</td>\n",
              "    </tr>\n",
              "    <tr>\n",
              "      <th>18845</th>\n",
              "      <td>After a tip from Gary Crum (crum@fcom.cc.utah....</td>\n",
              "      <td>After tip Gary Crum crum I got Phone Pontiac S...</td>\n",
              "      <td>[0.03502944, 0.009536974, 0.038607366, 0.04571...</td>\n",
              "    </tr>\n",
              "  </tbody>\n",
              "</table>\n",
              "<p>18846 rows × 3 columns</p>\n",
              "</div>"
            ],
            "text/plain": [
              "                                                     raw  \\\n",
              "0      \\n\\nI am sure some bashers of Pens fans are pr...   \n",
              "1      My brother is in the market for a high-perform...   \n",
              "2      \\n\\n\\n\\n\\tFinally you said what you dream abou...   \n",
              "3      \\nThink!\\n\\nIt's the SCSI card doing the DMA t...   \n",
              "4      1)    I have an old Jasmine drive which I cann...   \n",
              "...                                                  ...   \n",
              "18841  DN> From: nyeda@cnsvax.uwec.edu (David Nye)\\nD...   \n",
              "18842  \\nNot in isolated ground recepticles (usually ...   \n",
              "18843  I just installed a DX2-66 CPU in a clone mothe...   \n",
              "18844  \\nWouldn't this require a hyper-sphere.  In 3-...   \n",
              "18845  After a tip from Gary Crum (crum@fcom.cc.utah....   \n",
              "\n",
              "                                            preprocessed  \\\n",
              "0      I sure bashers Pens fans pretty confused lack ...   \n",
              "1      My brother market video card supports VESA loc...   \n",
              "2      Finally said dream Mediterranean That new The ...   \n",
              "3      Think It SCSI card DMA transfers NOT disks The...   \n",
              "4      I old Jasmine drive I use new system My unders...   \n",
              "...                                                  ...   \n",
              "18841  DN From nyeda David Nye DN A neurology DN cons...   \n",
              "18842  Not isolated ground recepticles usually unusua...   \n",
              "18843  I installed CPU clone motherboard tried mounti...   \n",
              "18844  Would require In points specifies sphere far I...   \n",
              "18845  After tip Gary Crum crum I got Phone Pontiac S...   \n",
              "\n",
              "                                               embedding  \n",
              "0      [0.044840634, 0.042145394, -0.0068237716, 0.11...  \n",
              "1      [-0.055559713, -0.015373476, 0.02511609, 0.018...  \n",
              "2      [0.04519834, -0.0076894974, 0.1272826, 0.09746...  \n",
              "3      [0.012831859, 0.0052521536, 0.0058194674, 0.01...  \n",
              "4      [0.049170937, 0.0056467694, 0.04843648, 0.0792...  \n",
              "...                                                  ...  \n",
              "18841  [-0.011498247, 0.085058756, 0.00591256, 0.0744...  \n",
              "18842  [0.030495537, -0.00055185956, -0.038831923, 0....  \n",
              "18843  [0.004587446, -0.004250663, 0.017289298, 0.091...  \n",
              "18844  [-0.015062968, -0.004964193, 0.06576029, 0.107...  \n",
              "18845  [0.03502944, 0.009536974, 0.038607366, 0.04571...  \n",
              "\n",
              "[18846 rows x 3 columns]"
            ]
          },
          "execution_count": 20,
          "metadata": {},
          "output_type": "execute_result"
        }
      ],
      "source": [
        "newsgroupsdocs_df['embedding'] = newsgroupsdocs_df['preprocessed'].apply(embedding_doc)\n",
        "newsgroupsdocs_df"
      ]
    },
    {
      "cell_type": "code",
      "execution_count": 21,
      "id": "xiCqIFErFtCP",
      "metadata": {
        "colab": {
          "base_uri": "https://localhost:8080/"
        },
        "id": "xiCqIFErFtCP",
        "outputId": "b0098fd7-5e2a-423c-dcee-648f2a210e31"
      },
      "outputs": [
        {
          "data": {
            "text/plain": [
              "array([-0.13476562, -0.02404785,  0.04418945,  0.27539062, -0.03271484,\n",
              "        0.13183594,  0.17382812, -0.00095367, -0.0625    ,  0.20996094,\n",
              "       -0.03051758, -0.3046875 , -0.10742188, -0.08203125, -0.43359375,\n",
              "        0.03637695, -0.11474609,  0.01092529, -0.34375   , -0.02929688,\n",
              "        0.30273438, -0.08203125,  0.22265625,  0.11083984, -0.14257812,\n",
              "       -0.04443359, -0.01745605,  0.01531982,  0.0018692 ,  0.23828125,\n",
              "       -0.26367188, -0.15136719,  0.13183594, -0.12792969,  0.0703125 ,\n",
              "        0.24609375,  0.17871094,  0.12353516,  0.06396484,  0.265625  ,\n",
              "       -0.12158203, -0.22558594,  0.13867188,  0.125     , -0.03588867,\n",
              "       -0.20019531, -0.08837891, -0.00234985,  0.20703125,  0.21679688,\n",
              "       -0.12695312,  0.23730469,  0.0234375 ,  0.1328125 , -0.06835938,\n",
              "       -0.09179688,  0.17089844, -0.07617188,  0.22070312,  0.03735352,\n",
              "       -0.04492188,  0.20410156, -0.12011719, -0.00543213,  0.23632812,\n",
              "       -0.28125   , -0.1484375 , -0.07373047,  0.21972656, -0.08007812,\n",
              "        0.41210938, -0.0625    ,  0.03149414, -0.03271484, -0.09912109,\n",
              "       -0.25585938, -0.14941406, -0.28710938, -0.04956055, -0.33203125,\n",
              "        0.10400391, -0.03369141,  0.24609375, -0.00848389,  0.10986328,\n",
              "       -0.00634766, -0.28125   ,  0.28515625, -0.11035156, -0.31054688,\n",
              "       -0.20898438,  0.05566406, -0.21386719, -0.40039062, -0.18359375,\n",
              "       -0.265625  , -0.0534668 , -0.02148438, -0.1171875 , -0.20117188,\n",
              "       -0.05639648, -0.11767578, -0.12109375, -0.05859375, -0.0234375 ,\n",
              "       -0.09863281,  0.35351562, -0.13476562,  0.03063965, -0.07177734,\n",
              "       -0.15527344, -0.27929688,  0.02026367,  0.26953125, -0.24121094,\n",
              "       -0.00558472, -0.01879883, -0.17382812, -0.27148438, -0.11865234,\n",
              "       -0.05981445, -0.10986328, -0.16113281, -0.10253906, -0.20605469,\n",
              "       -0.08935547,  0.10107422,  0.01074219,  0.12890625,  0.12158203,\n",
              "       -0.4453125 ,  0.1640625 , -0.08984375,  0.15917969, -0.13085938,\n",
              "        0.203125  ,  0.02282715,  0.07177734,  0.31054688,  0.00215149,\n",
              "       -0.07128906, -0.12695312,  0.15917969,  0.23242188,  0.07470703,\n",
              "       -0.06103516, -0.20507812, -0.05981445, -0.16796875,  0.12597656,\n",
              "        0.06347656, -0.19140625, -0.12353516,  0.08496094,  0.02197266,\n",
              "       -0.1484375 , -0.12597656, -0.21386719, -0.27539062, -0.08105469,\n",
              "       -0.2578125 ,  0.00241089,  0.20410156,  0.06396484, -0.17382812,\n",
              "        0.01806641,  0.11376953, -0.03393555,  0.17578125,  0.06689453,\n",
              "       -0.296875  ,  0.10449219,  0.0291748 , -0.1328125 ,  0.0213623 ,\n",
              "       -0.18847656,  0.09130859,  0.05932617,  0.109375  ,  0.30859375,\n",
              "       -0.03344727, -0.2890625 , -0.09863281, -0.11328125,  0.21972656,\n",
              "       -0.05957031,  0.05102539,  0.16210938, -0.16503906,  0.25195312,\n",
              "       -0.10839844,  0.15820312, -0.06494141, -0.09326172,  0.12792969,\n",
              "        0.38867188, -0.22851562, -0.05883789, -0.13085938,  0.02380371,\n",
              "        0.09912109, -0.24316406, -0.04394531, -0.09228516, -0.09863281,\n",
              "       -0.10888672,  0.125     , -0.07421875,  0.17871094, -0.06835938,\n",
              "       -0.1953125 ,  0.2890625 ,  0.0189209 , -0.0390625 ,  0.08349609,\n",
              "        0.06079102,  0.03540039, -0.03637695,  0.04345703,  0.14160156,\n",
              "       -0.078125  , -0.02026367, -0.10888672, -0.09765625,  0.4140625 ,\n",
              "       -0.10253906,  0.01757812,  0.19726562,  0.09375   ,  0.15234375,\n",
              "        0.27929688, -0.265625  ,  0.08007812,  0.21582031, -0.09033203,\n",
              "       -0.51171875,  0.23632812, -0.01226807, -0.13769531,  0.24023438,\n",
              "        0.16992188,  0.08251953, -0.03808594,  0.07714844, -0.01818848,\n",
              "       -0.33984375,  0.07324219,  0.09277344,  0.16210938,  0.21972656,\n",
              "       -0.00613403,  0.10302734,  0.13085938, -0.12451172,  0.296875  ,\n",
              "       -0.27734375,  0.10595703,  0.11523438,  0.03466797, -0.06689453,\n",
              "        0.10595703,  0.20117188,  0.09570312, -0.07421875,  0.13378906,\n",
              "       -0.10351562, -0.15039062, -0.04125977, -0.00056076,  0.07128906,\n",
              "        0.10498047,  0.140625  ,  0.11035156, -0.328125  ,  0.11474609,\n",
              "       -0.24121094, -0.0559082 ,  0.01721191,  0.04907227,  0.06738281,\n",
              "       -0.05981445,  0.10009766,  0.09277344,  0.02636719, -0.16113281,\n",
              "       -0.10498047, -0.09228516,  0.33789062, -0.08398438,  0.35546875,\n",
              "       -0.2109375 , -0.04125977, -0.29492188,  0.30273438,  0.18457031,\n",
              "       -0.07226562,  0.0612793 ,  0.1015625 ,  0.06689453,  0.10107422],\n",
              "      dtype=float32)"
            ]
          },
          "execution_count": 21,
          "metadata": {},
          "output_type": "execute_result"
        }
      ],
      "source": [
        "query = 'chicken'\n",
        "query_embedding = embedding_doc(query)\n",
        "query_embedding"
      ]
    },
    {
      "cell_type": "markdown",
      "id": "84f29c9d35285942",
      "metadata": {
        "id": "84f29c9d35285942"
      },
      "source": [
        "## 2. Medidas de Similitud\n",
        "\n",
        "El principio básico de una base vectorial es buscar elementos cuyo vector esté \"cerca\" del vector de consulta. Existen varias formas de medir esta cercanía:\n",
        "\n",
        "### a. Distancia Euclidiana (L2)\n",
        "\n",
        "$$ \\text{dist}(⇡\\vec{q}, \\vec{d}) = \\sqrt{\\sum_{i=1}^n (q_i - d_i)^2} $$\n",
        "\n",
        "Utilizada cuando los vectores no están normalizados. Implementada por defecto en `FAISS` con `IndexFlatL2`.\n",
        "\n",
        "### b. Similitud Coseno\n",
        "\n",
        "$$ \\cos(\\theta) = \\frac{\\vec{q} \\cdot \\vec{d}}{\\|\\vec{q}\\| \\cdot \\|\\vec{d}\\|} $$\n",
        "\n",
        "Esta métrica es ideal cuando se desea medir ángulos (dirección) en lugar de magnitudes. Se usa en `ChromaDB` y también puede simularse en FAISS si los vectores están normalizados.\n",
        "\n",
        "Existe una relación entre ambas (cuando los vectores están normalizados):\n",
        "$$ \\text{dist}_{\\text{L2}}^2 = 2 - 2 \\cdot \\cos(\\theta) $$"
      ]
    },
    {
      "cell_type": "code",
      "execution_count": 13,
      "id": "8pYQvocKH1Ev",
      "metadata": {
        "id": "8pYQvocKH1Ev"
      },
      "outputs": [],
      "source": [
        "from sklearn.metrics.pairwise import cosine_similarity"
      ]
    },
    {
      "cell_type": "code",
      "execution_count": 22,
      "id": "3a2vzwhzMuLB",
      "metadata": {
        "colab": {
          "base_uri": "https://localhost:8080/",
          "height": 458
        },
        "id": "3a2vzwhzMuLB",
        "outputId": "227d0cf6-6a54-4de2-f1c0-5becf16ae027"
      },
      "outputs": [
        {
          "data": {
            "text/plain": [
              "0        [0.044840634, 0.042145394, -0.0068237716, 0.11...\n",
              "1        [-0.055559713, -0.015373476, 0.02511609, 0.018...\n",
              "2        [0.04519834, -0.0076894974, 0.1272826, 0.09746...\n",
              "3        [0.012831859, 0.0052521536, 0.0058194674, 0.01...\n",
              "4        [0.049170937, 0.0056467694, 0.04843648, 0.0792...\n",
              "                               ...                        \n",
              "18841    [-0.011498247, 0.085058756, 0.00591256, 0.0744...\n",
              "18842    [0.030495537, -0.00055185956, -0.038831923, 0....\n",
              "18843    [0.004587446, -0.004250663, 0.017289298, 0.091...\n",
              "18844    [-0.015062968, -0.004964193, 0.06576029, 0.107...\n",
              "18845    [0.03502944, 0.009536974, 0.038607366, 0.04571...\n",
              "Name: embedding, Length: 18846, dtype: object"
            ]
          },
          "execution_count": 22,
          "metadata": {},
          "output_type": "execute_result"
        }
      ],
      "source": [
        "newsgroupsdocs_df['embedding']"
      ]
    },
    {
      "cell_type": "code",
      "execution_count": 23,
      "id": "phAxi5ouOOvh",
      "metadata": {
        "colab": {
          "base_uri": "https://localhost:8080/"
        },
        "id": "phAxi5ouOOvh",
        "outputId": "ff1f1f1b-9dfa-47ba-a8e7-8147536b8e5f"
      },
      "outputs": [
        {
          "data": {
            "text/plain": [
              "300"
            ]
          },
          "execution_count": 23,
          "metadata": {},
          "output_type": "execute_result"
        }
      ],
      "source": [
        "tre = newsgroupsdocs_df['embedding'][18845]\n",
        "len(tre)"
      ]
    },
    {
      "cell_type": "code",
      "execution_count": 24,
      "id": "ZNyJdT6POvVp",
      "metadata": {
        "colab": {
          "base_uri": "https://localhost:8080/",
          "height": 321
        },
        "id": "ZNyJdT6POvVp",
        "outputId": "2c79757e-78bc-4ee3-a206-6079fccd1cfc"
      },
      "outputs": [
        {
          "data": {
            "text/plain": [
              "0        300\n",
              "1        300\n",
              "2        300\n",
              "3        300\n",
              "4        300\n",
              "        ... \n",
              "18841    300\n",
              "18842    300\n",
              "18843    300\n",
              "18844    300\n",
              "18845    300\n",
              "Name: embedding, Length: 18846, dtype: int64"
            ]
          },
          "execution_count": 24,
          "metadata": {},
          "output_type": "execute_result"
        }
      ],
      "source": [
        "newsgroupsdocs_df['embedding'].apply(len)"
      ]
    },
    {
      "cell_type": "code",
      "execution_count": 25,
      "id": "MSMeAL_sPmky",
      "metadata": {
        "colab": {
          "base_uri": "https://localhost:8080/",
          "height": 178
        },
        "id": "MSMeAL_sPmky",
        "outputId": "6e51d802-4fa1-41d0-9950-cbd0986fc065"
      },
      "outputs": [
        {
          "data": {
            "text/plain": [
              "embedding\n",
              "<class 'numpy.ndarray'>    18846\n",
              "Name: count, dtype: int64"
            ]
          },
          "execution_count": 25,
          "metadata": {},
          "output_type": "execute_result"
        }
      ],
      "source": [
        "newsgroupsdocs_df['embedding'].apply(type).value_counts()"
      ]
    },
    {
      "cell_type": "code",
      "execution_count": 26,
      "id": "-nB1KoITNw_5",
      "metadata": {
        "colab": {
          "base_uri": "https://localhost:8080/",
          "height": 339
        },
        "id": "-nB1KoITNw_5",
        "outputId": "c346c455-551d-46b8-9652-f445da794ee1"
      },
      "outputs": [
        {
          "data": {
            "text/html": [
              "<div>\n",
              "<style scoped>\n",
              "    .dataframe tbody tr th:only-of-type {\n",
              "        vertical-align: middle;\n",
              "    }\n",
              "\n",
              "    .dataframe tbody tr th {\n",
              "        vertical-align: top;\n",
              "    }\n",
              "\n",
              "    .dataframe thead th {\n",
              "        text-align: right;\n",
              "    }\n",
              "</style>\n",
              "<table border=\"1\" class=\"dataframe\">\n",
              "  <thead>\n",
              "    <tr style=\"text-align: right;\">\n",
              "      <th></th>\n",
              "      <th>raw</th>\n",
              "      <th>preprocessed</th>\n",
              "      <th>embedding</th>\n",
              "      <th>count</th>\n",
              "    </tr>\n",
              "  </thead>\n",
              "  <tbody>\n",
              "    <tr>\n",
              "      <th>0</th>\n",
              "      <td>\\n\\nI am sure some bashers of Pens fans are pr...</td>\n",
              "      <td>I sure bashers Pens fans pretty confused lack ...</td>\n",
              "      <td>[0.044840634, 0.042145394, -0.0068237716, 0.11...</td>\n",
              "      <td>300</td>\n",
              "    </tr>\n",
              "    <tr>\n",
              "      <th>1</th>\n",
              "      <td>My brother is in the market for a high-perform...</td>\n",
              "      <td>My brother market video card supports VESA loc...</td>\n",
              "      <td>[-0.055559713, -0.015373476, 0.02511609, 0.018...</td>\n",
              "      <td>300</td>\n",
              "    </tr>\n",
              "    <tr>\n",
              "      <th>2</th>\n",
              "      <td>\\n\\n\\n\\n\\tFinally you said what you dream abou...</td>\n",
              "      <td>Finally said dream Mediterranean That new The ...</td>\n",
              "      <td>[0.04519834, -0.0076894974, 0.1272826, 0.09746...</td>\n",
              "      <td>300</td>\n",
              "    </tr>\n",
              "    <tr>\n",
              "      <th>3</th>\n",
              "      <td>\\nThink!\\n\\nIt's the SCSI card doing the DMA t...</td>\n",
              "      <td>Think It SCSI card DMA transfers NOT disks The...</td>\n",
              "      <td>[0.012831859, 0.0052521536, 0.0058194674, 0.01...</td>\n",
              "      <td>300</td>\n",
              "    </tr>\n",
              "    <tr>\n",
              "      <th>4</th>\n",
              "      <td>1)    I have an old Jasmine drive which I cann...</td>\n",
              "      <td>I old Jasmine drive I use new system My unders...</td>\n",
              "      <td>[0.049170937, 0.0056467694, 0.04843648, 0.0792...</td>\n",
              "      <td>300</td>\n",
              "    </tr>\n",
              "    <tr>\n",
              "      <th>...</th>\n",
              "      <td>...</td>\n",
              "      <td>...</td>\n",
              "      <td>...</td>\n",
              "      <td>...</td>\n",
              "    </tr>\n",
              "    <tr>\n",
              "      <th>18841</th>\n",
              "      <td>DN&gt; From: nyeda@cnsvax.uwec.edu (David Nye)\\nD...</td>\n",
              "      <td>DN From nyeda David Nye DN A neurology DN cons...</td>\n",
              "      <td>[-0.011498247, 0.085058756, 0.00591256, 0.0744...</td>\n",
              "      <td>300</td>\n",
              "    </tr>\n",
              "    <tr>\n",
              "      <th>18842</th>\n",
              "      <td>\\nNot in isolated ground recepticles (usually ...</td>\n",
              "      <td>Not isolated ground recepticles usually unusua...</td>\n",
              "      <td>[0.030495537, -0.00055185956, -0.038831923, 0....</td>\n",
              "      <td>300</td>\n",
              "    </tr>\n",
              "    <tr>\n",
              "      <th>18843</th>\n",
              "      <td>I just installed a DX2-66 CPU in a clone mothe...</td>\n",
              "      <td>I installed CPU clone motherboard tried mounti...</td>\n",
              "      <td>[0.004587446, -0.004250663, 0.017289298, 0.091...</td>\n",
              "      <td>300</td>\n",
              "    </tr>\n",
              "    <tr>\n",
              "      <th>18844</th>\n",
              "      <td>\\nWouldn't this require a hyper-sphere.  In 3-...</td>\n",
              "      <td>Would require In points specifies sphere far I...</td>\n",
              "      <td>[-0.015062968, -0.004964193, 0.06576029, 0.107...</td>\n",
              "      <td>300</td>\n",
              "    </tr>\n",
              "    <tr>\n",
              "      <th>18845</th>\n",
              "      <td>After a tip from Gary Crum (crum@fcom.cc.utah....</td>\n",
              "      <td>After tip Gary Crum crum I got Phone Pontiac S...</td>\n",
              "      <td>[0.03502944, 0.009536974, 0.038607366, 0.04571...</td>\n",
              "      <td>300</td>\n",
              "    </tr>\n",
              "  </tbody>\n",
              "</table>\n",
              "<p>18846 rows × 4 columns</p>\n",
              "</div>"
            ],
            "text/plain": [
              "                                                     raw  \\\n",
              "0      \\n\\nI am sure some bashers of Pens fans are pr...   \n",
              "1      My brother is in the market for a high-perform...   \n",
              "2      \\n\\n\\n\\n\\tFinally you said what you dream abou...   \n",
              "3      \\nThink!\\n\\nIt's the SCSI card doing the DMA t...   \n",
              "4      1)    I have an old Jasmine drive which I cann...   \n",
              "...                                                  ...   \n",
              "18841  DN> From: nyeda@cnsvax.uwec.edu (David Nye)\\nD...   \n",
              "18842  \\nNot in isolated ground recepticles (usually ...   \n",
              "18843  I just installed a DX2-66 CPU in a clone mothe...   \n",
              "18844  \\nWouldn't this require a hyper-sphere.  In 3-...   \n",
              "18845  After a tip from Gary Crum (crum@fcom.cc.utah....   \n",
              "\n",
              "                                            preprocessed  \\\n",
              "0      I sure bashers Pens fans pretty confused lack ...   \n",
              "1      My brother market video card supports VESA loc...   \n",
              "2      Finally said dream Mediterranean That new The ...   \n",
              "3      Think It SCSI card DMA transfers NOT disks The...   \n",
              "4      I old Jasmine drive I use new system My unders...   \n",
              "...                                                  ...   \n",
              "18841  DN From nyeda David Nye DN A neurology DN cons...   \n",
              "18842  Not isolated ground recepticles usually unusua...   \n",
              "18843  I installed CPU clone motherboard tried mounti...   \n",
              "18844  Would require In points specifies sphere far I...   \n",
              "18845  After tip Gary Crum crum I got Phone Pontiac S...   \n",
              "\n",
              "                                               embedding  count  \n",
              "0      [0.044840634, 0.042145394, -0.0068237716, 0.11...    300  \n",
              "1      [-0.055559713, -0.015373476, 0.02511609, 0.018...    300  \n",
              "2      [0.04519834, -0.0076894974, 0.1272826, 0.09746...    300  \n",
              "3      [0.012831859, 0.0052521536, 0.0058194674, 0.01...    300  \n",
              "4      [0.049170937, 0.0056467694, 0.04843648, 0.0792...    300  \n",
              "...                                                  ...    ...  \n",
              "18841  [-0.011498247, 0.085058756, 0.00591256, 0.0744...    300  \n",
              "18842  [0.030495537, -0.00055185956, -0.038831923, 0....    300  \n",
              "18843  [0.004587446, -0.004250663, 0.017289298, 0.091...    300  \n",
              "18844  [-0.015062968, -0.004964193, 0.06576029, 0.107...    300  \n",
              "18845  [0.03502944, 0.009536974, 0.038607366, 0.04571...    300  \n",
              "\n",
              "[18846 rows x 4 columns]"
            ]
          },
          "execution_count": 26,
          "metadata": {},
          "output_type": "execute_result"
        }
      ],
      "source": [
        "newsgroupsdocs_df['count'] = newsgroupsdocs_df['embedding'].apply(len)\n",
        "newsgroupsdocs_df\n"
      ]
    },
    {
      "cell_type": "code",
      "execution_count": 27,
      "id": "n5TcK10xNJ9Z",
      "metadata": {
        "colab": {
          "base_uri": "https://localhost:8080/",
          "height": 159
        },
        "id": "n5TcK10xNJ9Z",
        "outputId": "63d05b01-fc4d-424a-c7b4-d3a98c50dd4d"
      },
      "outputs": [],
      "source": [
        "embeddings_array = np.array(newsgroupsdocs_df['embedding'].tolist())"
      ]
    },
    {
      "cell_type": "code",
      "execution_count": 34,
      "id": "5DPctoxrKVjY",
      "metadata": {
        "colab": {
          "base_uri": "https://localhost:8080/",
          "height": 280
        },
        "id": "5DPctoxrKVjY",
        "outputId": "d39e5ebb-1305-451a-eede-e34afd0ea336"
      },
      "outputs": [
        {
          "data": {
            "text/plain": [
              "array([[0.18173103],\n",
              "       [0.12174653],\n",
              "       [0.21135289],\n",
              "       ...,\n",
              "       [0.21367916],\n",
              "       [0.16496483],\n",
              "       [0.20538848]])"
            ]
          },
          "execution_count": 34,
          "metadata": {},
          "output_type": "execute_result"
        }
      ],
      "source": [
        "sim = cosine_similarity(X=embeddings_array, Y=query_embedding.reshape(1, -1))\n",
        "sim"
      ]
    },
    {
      "cell_type": "code",
      "execution_count": null,
      "id": "acdc0580901174e2",
      "metadata": {
        "ExecuteTime": {
          "end_time": "2025-06-25T13:24:16.437219Z",
          "start_time": "2025-06-25T13:24:16.424202Z"
        },
        "id": "acdc0580901174e2",
        "outputId": "f65bc886-46a2-4387-9ae1-abe138329cd6"
      },
      "outputs": [
        {
          "name": "stdout",
          "output_type": "stream",
          "text": [
            "Distancia Euclidiana a doc1: 0.2449489742783178\n",
            "Distancia Euclidiana a doc2: 0.24494897427831785\n",
            "Similitud coseno con doc1: 0.8951435925492909\n",
            "Similitud coseno con doc2: 0.8846153846153845\n"
          ]
        }
      ],
      "source": [
        "from numpy.linalg import norm\n",
        "\n",
        "dist1 = norm(query - doc1)\n",
        "dist2 = norm(query - doc2)\n",
        "\n",
        "print(\"Distancia Euclidiana a doc1:\", dist1)\n",
        "print(\"Distancia Euclidiana a doc2:\", dist2)\n",
        "\n",
        "def cosine_similarity(a, b):\n",
        "    return np.dot(a, b) / (norm(a) * norm(b))\n",
        "\n",
        "sim1 = cosine_similarity(query, doc1)\n",
        "sim2 = cosine_similarity(query, doc2)\n",
        "\n",
        "print(\"Similitud coseno con doc1:\", sim1)\n",
        "print(\"Similitud coseno con doc2:\", sim2)"
      ]
    },
    {
      "cell_type": "markdown",
      "id": "1d52d25bf0be142",
      "metadata": {
        "id": "1d52d25bf0be142"
      },
      "source": [
        "## 3. Normalización de Vectores\n",
        "\n",
        "Muchos sistemas normalizan los vectores para que su norma sea 1:\n",
        "\n",
        "$$ \\hat{\\vec{v}} = \\frac{\\vec{v}}{\\|\\vec{v}\\|} $$\n",
        "\n",
        "Esto transforma la distancia Euclidiana en una función directa de la similitud coseno, facilitando búsquedas eficientes y comparables."
      ]
    },
    {
      "cell_type": "code",
      "execution_count": null,
      "id": "bc8af7ab6b021307",
      "metadata": {
        "ExecuteTime": {
          "end_time": "2025-06-25T13:24:23.682148Z",
          "start_time": "2025-06-25T13:24:23.662256Z"
        },
        "id": "bc8af7ab6b021307",
        "outputId": "128e6d45-758d-4a67-90ff-71e31251aada"
      },
      "outputs": [
        {
          "name": "stdout",
          "output_type": "stream",
          "text": [
            "Vector normalizado q: [0.19611614 0.58834841 0.78446454]\n",
            "Similitud coseno post-normalización (dot): 0.895143592549291 0.8846153846153845\n",
            "2 - 2cos(theta): 0.20971281490141802\n",
            "Distancia euclidiana al cuadrado: 0.20971281490141774\n"
          ]
        }
      ],
      "source": [
        "def normalize(v):\n",
        "    return v / norm(v)\n",
        "\n",
        "q_norm = normalize(query)\n",
        "d1_norm = normalize(doc1)\n",
        "d2_norm = normalize(doc2)\n",
        "\n",
        "print(\"Vector normalizado q:\", q_norm)\n",
        "print(\"Similitud coseno post-normalización (dot):\", np.dot(q_norm, d1_norm), np.dot(q_norm, d2_norm))\n",
        "\n",
        "# Relación teórica: dist² = 2 - 2cos(θ)\n",
        "dot = np.dot(q_norm, d1_norm)\n",
        "euclidean_sq = norm(q_norm - d1_norm)**2\n",
        "print(\"2 - 2cos(theta):\", 2 - 2 * dot)\n",
        "print(\"Distancia euclidiana al cuadrado:\", euclidean_sq)"
      ]
    },
    {
      "cell_type": "markdown",
      "id": "ed5b08d9bbda13ed",
      "metadata": {
        "id": "ed5b08d9bbda13ed"
      },
      "source": [
        "## 4. Indexación y Aceleración\n",
        "\n",
        "Buscar en millones de vectores directamente es costoso $$( O(n \\cdot d) )$$. Se usan estructuras aproximadas para acelerar:\n",
        "\n",
        "### a. IVF (Inverted File Index)\n",
        "- Aplica clustering (K-means) a los vectores.\n",
        "- Durante la búsqueda, se consulta solo un subconjunto de clústeres.\n",
        "\n",
        "### b. HNSW (Hierarchical Navigable Small World)\n",
        "- Construye un grafo jerárquico de vecinos más cercanos.\n",
        "- Permite búsquedas logarítmicas eficientes."
      ]
    },
    {
      "cell_type": "code",
      "execution_count": null,
      "id": "b6f06db7b3e286e2",
      "metadata": {
        "id": "b6f06db7b3e286e2"
      },
      "outputs": [],
      "source": []
    }
  ],
  "metadata": {
    "colab": {
      "provenance": []
    },
    "kernelspec": {
      "display_name": "env",
      "language": "python",
      "name": "python3"
    },
    "language_info": {
      "codemirror_mode": {
        "name": "ipython",
        "version": 3
      },
      "file_extension": ".py",
      "mimetype": "text/x-python",
      "name": "python",
      "nbconvert_exporter": "python",
      "pygments_lexer": "ipython3",
      "version": "3.12.3"
    }
  },
  "nbformat": 4,
  "nbformat_minor": 5
}
