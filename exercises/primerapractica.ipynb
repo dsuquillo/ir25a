{
 "cells": [
  {
   "cell_type": "markdown",
   "id": "fe1cdf3e",
   "metadata": {
    "papermill": {
     "duration": 0.005588,
     "end_time": "2025-04-29T03:02:26.625370",
     "exception": false,
     "start_time": "2025-04-29T03:02:26.619782",
     "status": "completed"
    },
    "tags": []
   },
   "source": [
    "# Ejercicio 1: Introducción a Recuperación de Información\n",
    "\n",
    "## Objetivo de la práctica\n",
    "- Entender el problema de **buscar información** en colecciones de texto.\n",
    "- Comprender por qué se necesita un **índice invertido** en recuperación de información.\n",
    "- Programar una primera solución manual y luego optimizarla con un índice.\n",
    "- Evaluar la mejora en tiempos de búsqueda cuando usamos estructuras adecuadas."
   ]
  },
  {
   "cell_type": "markdown",
   "id": "4492f3ab",
   "metadata": {
    "papermill": {
     "duration": 0.004241,
     "end_time": "2025-04-29T03:02:26.634389",
     "exception": false,
     "start_time": "2025-04-29T03:02:26.630148",
     "status": "completed"
    },
    "tags": []
   },
   "source": [
    "## Parte 1: Búsqueda lineal en documentos\n",
    "\n",
    "### Actividad\n",
    "1. Se te proporcionará un conjunto de documentos de texto.\n",
    "2. Escribe una función que:\n",
    "   - Lea todos los documentos.\n",
    "   - Busque una palabra ingresada por el usuario.\n",
    "   - Muestre en qué documentos aparece la palabra."
   ]
  },
  {
   "cell_type": "code",
   "execution_count": 1,
   "id": "f0e171e2",
   "metadata": {
    "execution": {
     "iopub.execute_input": "2025-04-29T03:02:26.644908Z",
     "iopub.status.busy": "2025-04-29T03:02:26.644586Z",
     "iopub.status.idle": "2025-04-29T03:02:26.654419Z",
     "shell.execute_reply": "2025-04-29T03:02:26.653380Z"
    },
    "papermill": {
     "duration": 0.01736,
     "end_time": "2025-04-29T03:02:26.656268",
     "exception": false,
     "start_time": "2025-04-29T03:02:26.638908",
     "status": "completed"
    },
    "tags": []
   },
   "outputs": [],
   "source": [
    "import os\n",
    "import time\n",
    "\n",
    "def seeker(filename, search_word):\n",
    "    start_time = time.time()\n",
    "    documents_found = []\n",
    "    with open('/kaggle/input/dataset/' + filename) as file:\n",
    "        for line in file:\n",
    "            if(line.find(search_word) != -1):\n",
    "                documents_found.append(line)\n",
    "                \n",
    "    if(len(documents_found)):\n",
    "        for document in documents_found:\n",
    "            print(document)\n",
    "    else:\n",
    "        print('Palabra no encontrada')\n",
    "    end_time = time.time()\n",
    "    print(\"Execution time: \", end_time - start_time,\"secs\")"
   ]
  },
  {
   "cell_type": "code",
   "execution_count": 2,
   "id": "3b982952",
   "metadata": {
    "execution": {
     "iopub.execute_input": "2025-04-29T03:02:26.667501Z",
     "iopub.status.busy": "2025-04-29T03:02:26.666978Z",
     "iopub.status.idle": "2025-04-29T03:02:26.688192Z",
     "shell.execute_reply": "2025-04-29T03:02:26.687104Z"
    },
    "papermill": {
     "duration": 0.028397,
     "end_time": "2025-04-29T03:02:26.689752",
     "exception": false,
     "start_time": "2025-04-29T03:02:26.661355",
     "status": "completed"
    },
    "tags": []
   },
   "outputs": [
    {
     "name": "stdout",
     "output_type": "stream",
     "text": [
      "En Baños de Agua Santa, los turistas disfrutan de deportes de aventura como rafting y canopy.\n",
      "\n",
      "Execution time:  0.01607489585876465 secs\n"
     ]
    }
   ],
   "source": [
    "seeker('01_corpus_turismo.txt', 'aventura')"
   ]
  },
  {
   "cell_type": "code",
   "execution_count": 3,
   "id": "60eb5f14",
   "metadata": {
    "execution": {
     "iopub.execute_input": "2025-04-29T03:02:26.700359Z",
     "iopub.status.busy": "2025-04-29T03:02:26.700000Z",
     "iopub.status.idle": "2025-04-29T03:02:26.712429Z",
     "shell.execute_reply": "2025-04-29T03:02:26.711042Z"
    },
    "papermill": {
     "duration": 0.019399,
     "end_time": "2025-04-29T03:02:26.714000",
     "exception": false,
     "start_time": "2025-04-29T03:02:26.694601",
     "status": "completed"
    },
    "tags": []
   },
   "outputs": [
    {
     "name": "stdout",
     "output_type": "stream",
     "text": [
      "Baños de Agua Santa ofrece deportes de aventura como rafting Un lugar sorprendente para visitar.\n",
      "\n",
      "Baños de Agua Santa ofrece deportes de aventura como rafting Un lugar famoso para visitar.\n",
      "\n",
      "Baños de Agua Santa ofrece deportes de aventura como rafting Una experiencia inolvidable.\n",
      "\n",
      "Baños de Agua Santa ofrece deportes de aventura como rafting Un lugar famoso para visitar.\n",
      "\n",
      "Baños de Agua Santa ofrece deportes de aventura como rafting Una experiencia inolvidable.\n",
      "\n",
      "Baños de Agua Santa ofrece deportes de aventura como rafting Perfecto para canopy.\n",
      "\n",
      "Baños de Agua Santa ofrece deportes de aventura como rafting Ideal para el próximo feriado.\n",
      "\n",
      "Baños de Agua Santa ofrece deportes de aventura como rafting Perfecto para avistamiento de aves.\n",
      "\n",
      "Baños de Agua Santa ofrece deportes de aventura como rafting Perfecto para canopy.\n",
      "\n",
      "Baños de Agua Santa ofrece deportes de aventura como rafting Ideal para el próximo feriado.\n",
      "\n",
      "Baños de Agua Santa ofrece deportes de aventura como rafting\n",
      "\n",
      "Baños de Agua Santa ofrece deportes de aventura como rafting\n",
      "\n",
      "Baños de Agua Santa ofrece deportes de aventura como rafting Perfecto para senderismo.\n",
      "\n",
      "Baños de Agua Santa ofrece deportes de aventura como rafting\n",
      "\n",
      "Baños de Agua Santa ofrece deportes de aventura como rafting\n",
      "\n",
      "Baños de Agua Santa ofrece deportes de aventura como rafting Ideal para el próximo feriado.\n",
      "\n",
      "Baños de Agua Santa ofrece deportes de aventura como rafting Una experiencia inolvidable.\n",
      "\n",
      "Baños de Agua Santa ofrece deportes de aventura como rafting Una experiencia inolvidable.\n",
      "\n",
      "Baños de Agua Santa ofrece deportes de aventura como rafting Una experiencia inolvidable.\n",
      "\n",
      "Baños de Agua Santa ofrece deportes de aventura como rafting Ideal para el próximo feriado.\n",
      "\n",
      "Baños de Agua Santa ofrece deportes de aventura como rafting\n",
      "\n",
      "Baños de Agua Santa ofrece deportes de aventura como rafting Ideal para el próximo feriado.\n",
      "\n",
      "Baños de Agua Santa ofrece deportes de aventura como rafting Perfecto para surf.\n",
      "\n",
      "Baños de Agua Santa ofrece deportes de aventura como rafting\n",
      "\n",
      "Baños de Agua Santa ofrece deportes de aventura como rafting Ideal para el próximo feriado.\n",
      "\n",
      "Baños de Agua Santa ofrece deportes de aventura como rafting Una experiencia inolvidable.\n",
      "\n",
      "Baños de Agua Santa ofrece deportes de aventura como rafting\n",
      "\n",
      "Baños de Agua Santa ofrece deportes de aventura como rafting Perfecto para canopy.\n",
      "\n",
      "Baños de Agua Santa ofrece deportes de aventura como rafting Un lugar famoso para visitar.\n",
      "\n",
      "Baños de Agua Santa ofrece deportes de aventura como rafting Una experiencia inolvidable.\n",
      "\n",
      "Baños de Agua Santa ofrece deportes de aventura como rafting Un lugar tranquilo para visitar.\n",
      "\n",
      "Baños de Agua Santa ofrece deportes de aventura como rafting Perfecto para canopy.\n",
      "\n",
      "Execution time:  0.007554054260253906 secs\n"
     ]
    }
   ],
   "source": [
    "seeker('01_corpus_turismo_500.txt', 'aventura')"
   ]
  },
  {
   "cell_type": "markdown",
   "id": "6428ad6f",
   "metadata": {
    "papermill": {
     "duration": 0.004874,
     "end_time": "2025-04-29T03:02:26.723811",
     "exception": false,
     "start_time": "2025-04-29T03:02:26.718937",
     "status": "completed"
    },
    "tags": []
   },
   "source": [
    "## Parte 2: Construcción de un índice invertido\n",
    "\n",
    "### Actividad\n",
    "1. Escribe un programa que:\n",
    "   - Recorra todos los documentos.\n",
    "   - Construya un **índice invertido**, es decir, un diccionario donde:\n",
    "     - Cada palabra clave apunta a una lista de documentos donde aparece.\n",
    "\n",
    "2. Escribe una nueva función de búsqueda que:\n",
    "   - Consulte directamente el índice para encontrar los documentos relevantes.\n",
    "   - Sea mucho más rápida que la búsqueda lineal."
   ]
  },
  {
   "cell_type": "code",
   "execution_count": 4,
   "id": "dad69beb",
   "metadata": {
    "execution": {
     "iopub.execute_input": "2025-04-29T03:02:26.734915Z",
     "iopub.status.busy": "2025-04-29T03:02:26.733969Z",
     "iopub.status.idle": "2025-04-29T03:02:26.740053Z",
     "shell.execute_reply": "2025-04-29T03:02:26.739185Z"
    },
    "papermill": {
     "duration": 0.013346,
     "end_time": "2025-04-29T03:02:26.741847",
     "exception": false,
     "start_time": "2025-04-29T03:02:26.728501",
     "status": "completed"
    },
    "tags": []
   },
   "outputs": [],
   "source": [
    "from collections import defaultdict\n",
    "import re\n",
    "import time\n",
    "\n",
    "inverted_index = defaultdict(set)\n",
    "\n",
    "def preprocess(text):\n",
    "    tokens = re.findall(r'\\w+', text)\n",
    "    return set(tokens)\n",
    "\n",
    "def createInvertedIndex():\n",
    "    for doc_id, doc_text in enumerate(documents):\n",
    "        terms = preprocess(doc_text)\n",
    "        for term in terms:\n",
    "            inverted_index[term].add(doc_id)"
   ]
  },
  {
   "cell_type": "code",
   "execution_count": 5,
   "id": "113d494a",
   "metadata": {
    "execution": {
     "iopub.execute_input": "2025-04-29T03:02:26.752619Z",
     "iopub.status.busy": "2025-04-29T03:02:26.752289Z",
     "iopub.status.idle": "2025-04-29T03:02:26.757708Z",
     "shell.execute_reply": "2025-04-29T03:02:26.756742Z"
    },
    "papermill": {
     "duration": 0.012841,
     "end_time": "2025-04-29T03:02:26.759354",
     "exception": false,
     "start_time": "2025-04-29T03:02:26.746513",
     "status": "completed"
    },
    "tags": []
   },
   "outputs": [],
   "source": [
    "def query(query_text):\n",
    "    start_time = time.time()\n",
    "    terms = preprocess(query_text)\n",
    "    results = set(doc_id for term in terms for doc_id in inverted_index.get(term, []))\n",
    "    result_docs = [documents[doc_id] for doc_id in results]\n",
    "    end_time = time.time()\n",
    "    print(\"Execution time: \", end_time - start_time,\"secs\")\n",
    "    return result_docs"
   ]
  },
  {
   "cell_type": "code",
   "execution_count": 6,
   "id": "0bdfc676",
   "metadata": {
    "execution": {
     "iopub.execute_input": "2025-04-29T03:02:26.770651Z",
     "iopub.status.busy": "2025-04-29T03:02:26.770364Z",
     "iopub.status.idle": "2025-04-29T03:02:26.776430Z",
     "shell.execute_reply": "2025-04-29T03:02:26.775128Z"
    },
    "papermill": {
     "duration": 0.01383,
     "end_time": "2025-04-29T03:02:26.778152",
     "exception": false,
     "start_time": "2025-04-29T03:02:26.764322",
     "status": "completed"
    },
    "tags": []
   },
   "outputs": [],
   "source": [
    "with open('/kaggle/input/dataset/01_corpus_turismo.txt') as file:\n",
    "    documents = file.readlines()\n",
    "    inverted_index = defaultdict(set)\n",
    "    createInvertedIndex()"
   ]
  },
  {
   "cell_type": "code",
   "execution_count": 7,
   "id": "e821b81b",
   "metadata": {
    "execution": {
     "iopub.execute_input": "2025-04-29T03:02:26.789445Z",
     "iopub.status.busy": "2025-04-29T03:02:26.788998Z",
     "iopub.status.idle": "2025-04-29T03:02:26.795149Z",
     "shell.execute_reply": "2025-04-29T03:02:26.793998Z"
    },
    "papermill": {
     "duration": 0.013422,
     "end_time": "2025-04-29T03:02:26.796821",
     "exception": false,
     "start_time": "2025-04-29T03:02:26.783399",
     "status": "completed"
    },
    "tags": []
   },
   "outputs": [
    {
     "name": "stdout",
     "output_type": "stream",
     "text": [
      "Execution time:  1.4781951904296875e-05 secs\n",
      "En Baños de Agua Santa, los turistas disfrutan de deportes de aventura como rafting y canopy.\n",
      "\n"
     ]
    }
   ],
   "source": [
    "results = query(\"aventura\")\n",
    "for result in results:\n",
    "    print(result)"
   ]
  },
  {
   "cell_type": "code",
   "execution_count": 8,
   "id": "8f8131e3",
   "metadata": {
    "execution": {
     "iopub.execute_input": "2025-04-29T03:02:26.808160Z",
     "iopub.status.busy": "2025-04-29T03:02:26.807783Z",
     "iopub.status.idle": "2025-04-29T03:02:26.817964Z",
     "shell.execute_reply": "2025-04-29T03:02:26.816909Z"
    },
    "papermill": {
     "duration": 0.018133,
     "end_time": "2025-04-29T03:02:26.819857",
     "exception": false,
     "start_time": "2025-04-29T03:02:26.801724",
     "status": "completed"
    },
    "tags": []
   },
   "outputs": [],
   "source": [
    "with open('/kaggle/input/dataset/01_corpus_turismo_500.txt') as file:\n",
    "    documents = file.readlines()\n",
    "    inverted_index = defaultdict(set)\n",
    "    createInvertedIndex()"
   ]
  },
  {
   "cell_type": "code",
   "execution_count": 9,
   "id": "5580c253",
   "metadata": {
    "execution": {
     "iopub.execute_input": "2025-04-29T03:02:26.834063Z",
     "iopub.status.busy": "2025-04-29T03:02:26.833519Z",
     "iopub.status.idle": "2025-04-29T03:02:26.840574Z",
     "shell.execute_reply": "2025-04-29T03:02:26.839158Z"
    },
    "papermill": {
     "duration": 0.017265,
     "end_time": "2025-04-29T03:02:26.842903",
     "exception": false,
     "start_time": "2025-04-29T03:02:26.825638",
     "status": "completed"
    },
    "tags": []
   },
   "outputs": [
    {
     "name": "stdout",
     "output_type": "stream",
     "text": [
      "Execution time:  4.506111145019531e-05 secs\n",
      "Baños de Agua Santa ofrece deportes de aventura como rafting Perfecto para surf.\n",
      "\n",
      "Baños de Agua Santa ofrece deportes de aventura como rafting\n",
      "\n",
      "Baños de Agua Santa ofrece deportes de aventura como rafting Perfecto para senderismo.\n",
      "\n",
      "Baños de Agua Santa ofrece deportes de aventura como rafting\n",
      "\n",
      "Baños de Agua Santa ofrece deportes de aventura como rafting Ideal para el próximo feriado.\n",
      "\n",
      "Baños de Agua Santa ofrece deportes de aventura como rafting\n",
      "\n",
      "Baños de Agua Santa ofrece deportes de aventura como rafting Un lugar sorprendente para visitar.\n",
      "\n",
      "Baños de Agua Santa ofrece deportes de aventura como rafting Un lugar famoso para visitar.\n",
      "\n",
      "Baños de Agua Santa ofrece deportes de aventura como rafting Ideal para el próximo feriado.\n",
      "\n",
      "Baños de Agua Santa ofrece deportes de aventura como rafting Una experiencia inolvidable.\n",
      "\n",
      "Baños de Agua Santa ofrece deportes de aventura como rafting Una experiencia inolvidable.\n",
      "\n",
      "Baños de Agua Santa ofrece deportes de aventura como rafting Una experiencia inolvidable.\n",
      "\n",
      "Baños de Agua Santa ofrece deportes de aventura como rafting Ideal para el próximo feriado.\n",
      "\n",
      "Baños de Agua Santa ofrece deportes de aventura como rafting Una experiencia inolvidable.\n",
      "\n",
      "Baños de Agua Santa ofrece deportes de aventura como rafting Una experiencia inolvidable.\n",
      "\n",
      "Baños de Agua Santa ofrece deportes de aventura como rafting Un lugar famoso para visitar.\n",
      "\n",
      "Baños de Agua Santa ofrece deportes de aventura como rafting Ideal para el próximo feriado.\n",
      "\n",
      "Baños de Agua Santa ofrece deportes de aventura como rafting\n",
      "\n",
      "Baños de Agua Santa ofrece deportes de aventura como rafting Una experiencia inolvidable.\n",
      "\n",
      "Baños de Agua Santa ofrece deportes de aventura como rafting Perfecto para canopy.\n",
      "\n",
      "Baños de Agua Santa ofrece deportes de aventura como rafting Ideal para el próximo feriado.\n",
      "\n",
      "Baños de Agua Santa ofrece deportes de aventura como rafting Perfecto para avistamiento de aves.\n",
      "\n",
      "Baños de Agua Santa ofrece deportes de aventura como rafting\n",
      "\n",
      "Baños de Agua Santa ofrece deportes de aventura como rafting Perfecto para canopy.\n",
      "\n",
      "Baños de Agua Santa ofrece deportes de aventura como rafting Perfecto para canopy.\n",
      "\n",
      "Baños de Agua Santa ofrece deportes de aventura como rafting Un lugar famoso para visitar.\n",
      "\n",
      "Baños de Agua Santa ofrece deportes de aventura como rafting\n",
      "\n",
      "Baños de Agua Santa ofrece deportes de aventura como rafting Una experiencia inolvidable.\n",
      "\n",
      "Baños de Agua Santa ofrece deportes de aventura como rafting Un lugar tranquilo para visitar.\n",
      "\n",
      "Baños de Agua Santa ofrece deportes de aventura como rafting Perfecto para canopy.\n",
      "\n",
      "Baños de Agua Santa ofrece deportes de aventura como rafting Ideal para el próximo feriado.\n",
      "\n",
      "Baños de Agua Santa ofrece deportes de aventura como rafting\n",
      "\n"
     ]
    }
   ],
   "source": [
    "results500 = query(\"aventura\")\n",
    "for result in results500:\n",
    "    print(result)"
   ]
  },
  {
   "cell_type": "markdown",
   "id": "94e1853f",
   "metadata": {
    "papermill": {
     "duration": 0.00598,
     "end_time": "2025-04-29T03:02:26.854579",
     "exception": false,
     "start_time": "2025-04-29T03:02:26.848599",
     "status": "completed"
    },
    "tags": []
   },
   "source": [
    "## Parte 3: Evaluación de tiempos de búsqueda\n",
    "### Actividad\n",
    "\n",
    "1. Realiza la búsqueda de varias palabras usando:\n",
    "      -  Corpus pequeño: 16 documentos (turismo en Ecuador).\n",
    "      -  Corpus grande: 500 documentos (versión ampliada).\n",
    "2. Mide el tiempo de ejecución:\n",
    "      -  Para búsqueda lineal.\n",
    "      -  Para búsqueda usando índice invertido.\n",
    "      -  Grafica o presenta los resultados en una tabla comparativa.\n",
    "\n",
    "### Ejemplo de palabras para buscar\n",
    "- quito\n",
    "- montañita\n",
    "- feriado\n",
    "- playas\n",
    "- aventura\n",
    "- galápagos"
   ]
  },
  {
   "attachments": {
    "9bc3bd34-bf7f-40bb-a78b-ca0193c263ff.png": {
     "image/png": "[encoded data removed]"
    },
    "c13f5ca1-d209-41de-9d81-788b97602f98.png": {
     "image/png": "[encoded data removed]"
    },
    "c283c16e-6c8c-412c-9ad4-5afa828ee34b.png": {
     "image/png": "[encoded data removed]"
    },
    "e66c9162-fe70-4e48-9108-227d7cdf36b7.png": {
     "image/png": "[encoded data removed]"
    }
   },
   "cell_type": "markdown",
   "id": "4835685a",
   "metadata": {
    "papermill": {
     "duration": 0.006133,
     "end_time": "2025-04-29T03:02:26.865716",
     "exception": false,
     "start_time": "2025-04-29T03:02:26.859583",
     "status": "completed"
    },
    "tags": []
   },
   "source": [
    "### Se utiliza import time, para medir el tiempo de ejecución\n",
    "\n",
    "|                | Lineal pequeño | Lineal grande | Índice invertido pequeño | Índice invertido grande |\n",
    "|----------------|----------------|---------------|--------------------------|--------------------------|\n",
    "| quito          | 0.001598358     | 0.003688335   | 1.69E-05                 | 1.72E-05                 |\n",
    "| montañita      | 0.001371622     | 0.003246546   | 1.45E-05                 | 1.22E-05                 |\n",
    "| feriado        | 0.002620935     | 0.004029036   | 6.79E-05                 | 6.65E-05                 |\n",
    "| playas         | 0.001939058     | 0.003304482   | 3.15E-05                 | 3.74E-05                 |\n",
    "| aventura       | 0.001825571     | 0.002104521   | 3.34E-05                 | 3.65E-05                 |\n",
    "| galápagos      | 0.001441002     | 0.002883673   | 1.24E-05                 | 1.62E-05                 |"
   ]
  },
  {
   "cell_type": "markdown",
   "id": "4ca63900",
   "metadata": {
    "papermill": {
     "duration": 0.004912,
     "end_time": "2025-04-29T03:02:26.875625",
     "exception": false,
     "start_time": "2025-04-29T03:02:26.870713",
     "status": "completed"
    },
    "tags": []
   },
   "source": [
    "## Parte 4:\n",
    "### Actividad\n",
    "1. Modifica el índice para que ignore mayúsculas/minúsculas (por ejemplo, \"Playa\" y \"playa\" deben considerarse iguales).\n",
    "2. Permite consultas de múltiples términos (ejemplo: buscar documentos que contengan \"playa\" y \"turismo\").\n",
    "3. Calcula el _speedup_"
   ]
  },
  {
   "cell_type": "code",
   "execution_count": 10,
   "id": "b1ccc014",
   "metadata": {
    "execution": {
     "iopub.execute_input": "2025-04-29T03:02:26.887500Z",
     "iopub.status.busy": "2025-04-29T03:02:26.887200Z",
     "iopub.status.idle": "2025-04-29T03:02:26.892704Z",
     "shell.execute_reply": "2025-04-29T03:02:26.891537Z"
    },
    "papermill": {
     "duration": 0.013727,
     "end_time": "2025-04-29T03:02:26.894423",
     "exception": false,
     "start_time": "2025-04-29T03:02:26.880696",
     "status": "completed"
    },
    "tags": []
   },
   "outputs": [],
   "source": [
    "def preprocess(text):\n",
    "    text = text.lower()\n",
    "    tokens = re.findall(r'\\w+', text)\n",
    "    return set(tokens)"
   ]
  },
  {
   "cell_type": "code",
   "execution_count": 11,
   "id": "790859b7",
   "metadata": {
    "execution": {
     "iopub.execute_input": "2025-04-29T03:02:26.905751Z",
     "iopub.status.busy": "2025-04-29T03:02:26.905479Z",
     "iopub.status.idle": "2025-04-29T03:02:26.916525Z",
     "shell.execute_reply": "2025-04-29T03:02:26.915624Z"
    },
    "papermill": {
     "duration": 0.018696,
     "end_time": "2025-04-29T03:02:26.918299",
     "exception": false,
     "start_time": "2025-04-29T03:02:26.899603",
     "status": "completed"
    },
    "tags": []
   },
   "outputs": [],
   "source": [
    "with open('/kaggle/input/dataset/01_corpus_turismo_500.txt') as file:\n",
    "    documents = file.readlines()\n",
    "    inverted_index = defaultdict(set)\n",
    "    createInvertedIndex()"
   ]
  },
  {
   "cell_type": "code",
   "execution_count": 12,
   "id": "b5dfa378",
   "metadata": {
    "execution": {
     "iopub.execute_input": "2025-04-29T03:02:26.930353Z",
     "iopub.status.busy": "2025-04-29T03:02:26.929801Z",
     "iopub.status.idle": "2025-04-29T03:02:26.937198Z",
     "shell.execute_reply": "2025-04-29T03:02:26.935762Z"
    },
    "papermill": {
     "duration": 0.01763,
     "end_time": "2025-04-29T03:02:26.941284",
     "exception": false,
     "start_time": "2025-04-29T03:02:26.923654",
     "status": "completed"
    },
    "tags": []
   },
   "outputs": [
    {
     "name": "stdout",
     "output_type": "stream",
     "text": [
      "Execution time:  6.580352783203125e-05 secs\n",
      "El Parque Nacional Cajas invita a caminatas entre lagunas Ideal para el próximo feriado.\n",
      "\n",
      "Mindo es famoso por el avistamiento de aves Ideal para el próximo feriado.\n",
      "\n",
      "Las Islas Galápagos atraen visitantes por su biodiversidad única Ideal para el próximo feriado.\n",
      "\n",
      "Quito tiene un centro histórico Patrimonio de la Humanidad Ideal para el próximo feriado.\n",
      "\n",
      "Las Islas Galápagos atraen visitantes por su biodiversidad única\n",
      "\n",
      "Las Islas Galápagos atraen visitantes por su biodiversidad única Una experiencia inolvidable.\n",
      "\n",
      "Las Islas Galápagos atraen visitantes por su biodiversidad única Una experiencia inolvidable.\n",
      "\n",
      "Durante el feriado, muchos visitan la Amazonía ecuatoriana Perfecto para rafting.\n",
      "\n",
      "Ecuador es un país megadiverso, ideal para el turismo ecológico Ideal para el próximo feriado.\n",
      "\n",
      "Las Islas Galápagos atraen visitantes por su biodiversidad única Una experiencia inolvidable.\n",
      "\n",
      "Mindo es famoso por el avistamiento de aves Ideal para el próximo feriado.\n",
      "\n",
      "El volcán Cotopaxi es un destino de senderismo popular Ideal para el próximo feriado.\n",
      "\n",
      "Otavalo es conocido por su mercado indígena y su artesanía Ideal para el próximo feriado.\n",
      "\n",
      "La Laguna Quilotoa destaca por su color turquesa Ideal para el próximo feriado.\n",
      "\n",
      "La Ruta del Spondylus conecta playas famosas como Montañita Ideal para el próximo feriado.\n",
      "\n",
      "Baños de Agua Santa ofrece deportes de aventura como rafting Un lugar sorprendente para visitar.\n",
      "\n",
      "Vilcabamba atrae visitantes interesados en longevidad y naturaleza Ideal para el próximo feriado.\n",
      "\n",
      "Las Islas Galápagos atraen visitantes por su biodiversidad única\n",
      "\n",
      "Durante el feriado, muchos visitan la Amazonía ecuatoriana Un lugar increíble para visitar.\n",
      "\n",
      "Las Islas Galápagos atraen visitantes por su biodiversidad única Un lugar espectacular para visitar.\n",
      "\n",
      "Los turistas disfrutan las fiestas y gastronomía típica local Ideal para el próximo feriado.\n",
      "\n",
      "Baños de Agua Santa ofrece deportes de aventura como rafting Un lugar famoso para visitar.\n",
      "\n",
      "Durante el feriado, muchos visitan la Amazonía ecuatoriana Ideal para el próximo feriado.\n",
      "\n",
      "Baños de Agua Santa ofrece deportes de aventura como rafting Una experiencia inolvidable.\n",
      "\n",
      "Otavalo es conocido por su mercado indígena y su artesanía Ideal para el próximo feriado.\n",
      "\n",
      "La Laguna Quilotoa destaca por su color turquesa Ideal para el próximo feriado.\n",
      "\n",
      "Durante el feriado, muchos visitan la Amazonía ecuatoriana Un lugar tranquilo para visitar.\n",
      "\n",
      "Quito tiene un centro histórico Patrimonio de la Humanidad Ideal para el próximo feriado.\n",
      "\n",
      "Quito tiene un centro histórico Patrimonio de la Humanidad Ideal para el próximo feriado.\n",
      "\n",
      "Baños de Agua Santa ofrece deportes de aventura como rafting Un lugar famoso para visitar.\n",
      "\n",
      "La Ruta del Spondylus conecta playas famosas como Montañita Ideal para el próximo feriado.\n",
      "\n",
      "Guayaquil sorprende con su Malecón 2000 y vida nocturna Ideal para el próximo feriado.\n",
      "\n",
      "Las Islas Galápagos atraen visitantes por su biodiversidad única\n",
      "\n",
      "Las Islas Galápagos atraen visitantes por su biodiversidad única Un lugar sorprendente para visitar.\n",
      "\n",
      "Baños de Agua Santa ofrece deportes de aventura como rafting Una experiencia inolvidable.\n",
      "\n",
      "Baños de Agua Santa ofrece deportes de aventura como rafting Perfecto para canopy.\n",
      "\n",
      "Baños de Agua Santa ofrece deportes de aventura como rafting Ideal para el próximo feriado.\n",
      "\n",
      "Las Islas Galápagos atraen visitantes por su biodiversidad única Perfecto para rafting.\n",
      "\n",
      "Baños de Agua Santa ofrece deportes de aventura como rafting Perfecto para avistamiento de aves.\n",
      "\n",
      "Baños de Agua Santa ofrece deportes de aventura como rafting Perfecto para canopy.\n",
      "\n",
      "El volcán Cotopaxi es un destino de senderismo popular Ideal para el próximo feriado.\n",
      "\n",
      "Los turistas disfrutan las fiestas y gastronomía típica local Ideal para el próximo feriado.\n",
      "\n",
      "Ecuador es un país megadiverso, ideal para el turismo ecológico Ideal para el próximo feriado.\n",
      "\n",
      "Ecuador es un país megadiverso, ideal para el turismo ecológico Ideal para el próximo feriado.\n",
      "\n",
      "Durante el feriado, muchos visitan la Amazonía ecuatoriana Perfecto para rafting.\n",
      "\n",
      "Guayaquil sorprende con su Malecón 2000 y vida nocturna Ideal para el próximo feriado.\n",
      "\n",
      "Guayaquil sorprende con su Malecón 2000 y vida nocturna Ideal para el próximo feriado.\n",
      "\n",
      "La Ruta del Spondylus conecta playas famosas como Montañita Ideal para el próximo feriado.\n",
      "\n",
      "Las Islas Galápagos atraen visitantes por su biodiversidad única Un lugar sorprendente para visitar.\n",
      "\n",
      "Las Islas Galápagos atraen visitantes por su biodiversidad única Una experiencia inolvidable.\n",
      "\n",
      "Ecuador es un país megadiverso, ideal para el turismo ecológico Ideal para el próximo feriado.\n",
      "\n",
      "Durante el feriado, muchos visitan la Amazonía ecuatoriana Perfecto para avistamiento de aves.\n",
      "\n",
      "Durante el feriado, muchos visitan la Amazonía ecuatoriana\n",
      "\n",
      "Cuenca deslumbra con su arquitectura colonial y gastronomía Ideal para el próximo feriado.\n",
      "\n",
      "Mindo es famoso por el avistamiento de aves Ideal para el próximo feriado.\n",
      "\n",
      "Las Islas Galápagos atraen visitantes por su biodiversidad única Ideal para el próximo feriado.\n",
      "\n",
      "Guayaquil sorprende con su Malecón 2000 y vida nocturna Ideal para el próximo feriado.\n",
      "\n",
      "Vilcabamba atrae visitantes interesados en longevidad y naturaleza Ideal para el próximo feriado.\n",
      "\n",
      "Durante el feriado, muchos visitan la Amazonía ecuatoriana Perfecto para surf.\n",
      "\n",
      "Mindo es famoso por el avistamiento de aves Ideal para el próximo feriado.\n",
      "\n",
      "Cuenca deslumbra con su arquitectura colonial y gastronomía Ideal para el próximo feriado.\n",
      "\n",
      "La Laguna Quilotoa destaca por su color turquesa Ideal para el próximo feriado.\n",
      "\n",
      "Durante el feriado, muchos visitan la Amazonía ecuatoriana Ideal para el próximo feriado.\n",
      "\n",
      "Vilcabamba atrae visitantes interesados en longevidad y naturaleza Ideal para el próximo feriado.\n",
      "\n",
      "Durante el feriado, muchos visitan la Amazonía ecuatoriana Un lugar auténtico para visitar.\n",
      "\n",
      "Ecuador es un país megadiverso, ideal para el turismo ecológico Ideal para el próximo feriado.\n",
      "\n",
      "La Ruta del Spondylus conecta playas famosas como Montañita Ideal para el próximo feriado.\n",
      "\n",
      "Las Islas Galápagos atraen visitantes por su biodiversidad única Perfecto para avistamiento de aves.\n",
      "\n",
      "Durante el feriado, muchos visitan la Amazonía ecuatoriana Ideal para el próximo feriado.\n",
      "\n",
      "El Parque Nacional Cajas invita a caminatas entre lagunas Ideal para el próximo feriado.\n",
      "\n",
      "Durante el feriado, muchos visitan la Amazonía ecuatoriana Una experiencia inolvidable.\n",
      "\n",
      "El Parque Nacional Cajas invita a caminatas entre lagunas Ideal para el próximo feriado.\n",
      "\n",
      "El Parque Nacional Cajas invita a caminatas entre lagunas Ideal para el próximo feriado.\n",
      "\n",
      "El Parque Nacional Cajas invita a caminatas entre lagunas Ideal para el próximo feriado.\n",
      "\n",
      "Guayaquil sorprende con su Malecón 2000 y vida nocturna Ideal para el próximo feriado.\n",
      "\n",
      "Ecuador es un país megadiverso, ideal para el turismo ecológico Ideal para el próximo feriado.\n",
      "\n",
      "Baños de Agua Santa ofrece deportes de aventura como rafting Ideal para el próximo feriado.\n",
      "\n",
      "Durante el feriado, muchos visitan la Amazonía ecuatoriana Ideal para el próximo feriado.\n",
      "\n",
      "Montañita se llena de surfistas durante los feriados Ideal para el próximo feriado.\n",
      "\n",
      "Durante el feriado, muchos visitan la Amazonía ecuatoriana\n",
      "\n",
      "Montañita se llena de surfistas durante los feriados Ideal para el próximo feriado.\n",
      "\n",
      "Quito tiene un centro histórico Patrimonio de la Humanidad Ideal para el próximo feriado.\n",
      "\n",
      "El Parque Nacional Cajas invita a caminatas entre lagunas Ideal para el próximo feriado.\n",
      "\n",
      "El volcán Cotopaxi es un destino de senderismo popular Ideal para el próximo feriado.\n",
      "\n",
      "Ecuador es un país megadiverso, ideal para el turismo ecológico Ideal para el próximo feriado.\n",
      "\n",
      "Las Islas Galápagos atraen visitantes por su biodiversidad única Una experiencia inolvidable.\n",
      "\n",
      "La Ruta del Spondylus conecta playas famosas como Montañita Ideal para el próximo feriado.\n",
      "\n",
      "La Ruta del Spondylus conecta playas famosas como Montañita Ideal para el próximo feriado.\n",
      "\n",
      "Guayaquil sorprende con su Malecón 2000 y vida nocturna Ideal para el próximo feriado.\n",
      "\n",
      "Las Islas Galápagos atraen visitantes por su biodiversidad única Una experiencia inolvidable.\n",
      "\n",
      "Mindo es famoso por el avistamiento de aves Ideal para el próximo feriado.\n",
      "\n",
      "Baños de Agua Santa ofrece deportes de aventura como rafting\n",
      "\n",
      "Baños de Agua Santa ofrece deportes de aventura como rafting\n",
      "\n",
      "Durante el feriado, muchos visitan la Amazonía ecuatoriana Una experiencia inolvidable.\n",
      "\n",
      "Durante el feriado, muchos visitan la Amazonía ecuatoriana Ideal para el próximo feriado.\n",
      "\n",
      "El Parque Nacional Cajas invita a caminatas entre lagunas Ideal para el próximo feriado.\n",
      "\n",
      "Vilcabamba atrae visitantes interesados en longevidad y naturaleza Ideal para el próximo feriado.\n",
      "\n",
      "Mindo es famoso por el avistamiento de aves Ideal para el próximo feriado.\n",
      "\n",
      "Baños de Agua Santa ofrece deportes de aventura como rafting Perfecto para senderismo.\n",
      "\n",
      "Baños de Agua Santa ofrece deportes de aventura como rafting\n",
      "\n",
      "Ecuador es un país megadiverso, ideal para el turismo ecológico Ideal para el próximo feriado.\n",
      "\n",
      "El Parque Nacional Cajas invita a caminatas entre lagunas Ideal para el próximo feriado.\n",
      "\n",
      "Los turistas disfrutan las fiestas y gastronomía típica local Ideal para el próximo feriado.\n",
      "\n",
      "Baños de Agua Santa ofrece deportes de aventura como rafting\n",
      "\n",
      "Los turistas disfrutan las fiestas y gastronomía típica local Ideal para el próximo feriado.\n",
      "\n",
      "Las Islas Galápagos atraen visitantes por su biodiversidad única\n",
      "\n",
      "Las Islas Galápagos atraen visitantes por su biodiversidad única Ideal para el próximo feriado.\n",
      "\n",
      "Los turistas disfrutan las fiestas y gastronomía típica local Ideal para el próximo feriado.\n",
      "\n",
      "Las Islas Galápagos atraen visitantes por su biodiversidad única\n",
      "\n",
      "Las Islas Galápagos atraen visitantes por su biodiversidad única Ideal para el próximo feriado.\n",
      "\n",
      "Las Islas Galápagos atraen visitantes por su biodiversidad única Ideal para el próximo feriado.\n",
      "\n",
      "El volcán Cotopaxi es un destino de senderismo popular Ideal para el próximo feriado.\n",
      "\n",
      "Durante el feriado, muchos visitan la Amazonía ecuatoriana Un lugar tranquilo para visitar.\n",
      "\n",
      "Baños de Agua Santa ofrece deportes de aventura como rafting Ideal para el próximo feriado.\n",
      "\n",
      "Baños de Agua Santa ofrece deportes de aventura como rafting Una experiencia inolvidable.\n",
      "\n",
      "Durante el feriado, muchos visitan la Amazonía ecuatoriana Un lugar sorprendente para visitar.\n",
      "\n",
      "Montañita se llena de surfistas durante los feriados Ideal para el próximo feriado.\n",
      "\n",
      "La Ruta del Spondylus conecta playas famosas como Montañita Ideal para el próximo feriado.\n",
      "\n",
      "Quito tiene un centro histórico Patrimonio de la Humanidad Ideal para el próximo feriado.\n",
      "\n",
      "La Ruta del Spondylus conecta playas famosas como Montañita Ideal para el próximo feriado.\n",
      "\n",
      "Durante el feriado, muchos visitan la Amazonía ecuatoriana Un lugar tranquilo para visitar.\n",
      "\n",
      "Baños de Agua Santa ofrece deportes de aventura como rafting Una experiencia inolvidable.\n",
      "\n",
      "Mindo es famoso por el avistamiento de aves Ideal para el próximo feriado.\n",
      "\n",
      "Baños de Agua Santa ofrece deportes de aventura como rafting Una experiencia inolvidable.\n",
      "\n",
      "Ecuador es un país megadiverso, ideal para el turismo ecológico Ideal para el próximo feriado.\n",
      "\n",
      "Baños de Agua Santa ofrece deportes de aventura como rafting Ideal para el próximo feriado.\n",
      "\n",
      "Las Islas Galápagos atraen visitantes por su biodiversidad única Perfecto para avistamiento de aves.\n",
      "\n",
      "Baños de Agua Santa ofrece deportes de aventura como rafting\n",
      "\n",
      "Otavalo es conocido por su mercado indígena y su artesanía Ideal para el próximo feriado.\n",
      "\n",
      "Otavalo es conocido por su mercado indígena y su artesanía Ideal para el próximo feriado.\n",
      "\n",
      "Cuenca deslumbra con su arquitectura colonial y gastronomía Ideal para el próximo feriado.\n",
      "\n",
      "Durante el feriado, muchos visitan la Amazonía ecuatoriana Ideal para el próximo feriado.\n",
      "\n",
      "Las Islas Galápagos atraen visitantes por su biodiversidad única Un lugar sorprendente para visitar.\n",
      "\n",
      "Otavalo es conocido por su mercado indígena y su artesanía Ideal para el próximo feriado.\n",
      "\n",
      "Durante el feriado, muchos visitan la Amazonía ecuatoriana\n",
      "\n",
      "Las Islas Galápagos atraen visitantes por su biodiversidad única Perfecto para rafting.\n",
      "\n",
      "Durante el feriado, muchos visitan la Amazonía ecuatoriana Una experiencia inolvidable.\n",
      "\n",
      "El Parque Nacional Cajas invita a caminatas entre lagunas Ideal para el próximo feriado.\n",
      "\n",
      "El Parque Nacional Cajas invita a caminatas entre lagunas Ideal para el próximo feriado.\n",
      "\n",
      "Mindo es famoso por el avistamiento de aves Ideal para el próximo feriado.\n",
      "\n",
      "Guayaquil sorprende con su Malecón 2000 y vida nocturna Ideal para el próximo feriado.\n",
      "\n",
      "Durante el feriado, muchos visitan la Amazonía ecuatoriana Un lugar tranquilo para visitar.\n",
      "\n",
      "Durante el feriado, muchos visitan la Amazonía ecuatoriana\n",
      "\n",
      "El Parque Nacional Cajas invita a caminatas entre lagunas Ideal para el próximo feriado.\n",
      "\n",
      "Baños de Agua Santa ofrece deportes de aventura como rafting Ideal para el próximo feriado.\n",
      "\n",
      "Otavalo es conocido por su mercado indígena y su artesanía Ideal para el próximo feriado.\n",
      "\n",
      "Ecuador es un país megadiverso, ideal para el turismo ecológico Ideal para el próximo feriado.\n",
      "\n",
      "Baños de Agua Santa ofrece deportes de aventura como rafting Perfecto para surf.\n",
      "\n",
      "La Ruta del Spondylus conecta playas famosas como Montañita Ideal para el próximo feriado.\n",
      "\n",
      "Baños de Agua Santa ofrece deportes de aventura como rafting\n",
      "\n",
      "Las Islas Galápagos atraen visitantes por su biodiversidad única Una experiencia inolvidable.\n",
      "\n",
      "Los turistas disfrutan las fiestas y gastronomía típica local Ideal para el próximo feriado.\n",
      "\n",
      "Las Islas Galápagos atraen visitantes por su biodiversidad única\n",
      "\n",
      "La Ruta del Spondylus conecta playas famosas como Montañita Ideal para el próximo feriado.\n",
      "\n",
      "Baños de Agua Santa ofrece deportes de aventura como rafting Ideal para el próximo feriado.\n",
      "\n",
      "El volcán Cotopaxi es un destino de senderismo popular Ideal para el próximo feriado.\n",
      "\n",
      "Mindo es famoso por el avistamiento de aves Ideal para el próximo feriado.\n",
      "\n",
      "Durante el feriado, muchos visitan la Amazonía ecuatoriana\n",
      "\n",
      "Guayaquil sorprende con su Malecón 2000 y vida nocturna Ideal para el próximo feriado.\n",
      "\n",
      "Mindo es famoso por el avistamiento de aves Ideal para el próximo feriado.\n",
      "\n",
      "Baños de Agua Santa ofrece deportes de aventura como rafting Una experiencia inolvidable.\n",
      "\n",
      "La Laguna Quilotoa destaca por su color turquesa Ideal para el próximo feriado.\n",
      "\n",
      "Durante el feriado, muchos visitan la Amazonía ecuatoriana Ideal para el próximo feriado.\n",
      "\n",
      "Las Islas Galápagos atraen visitantes por su biodiversidad única Ideal para el próximo feriado.\n",
      "\n",
      "El volcán Cotopaxi es un destino de senderismo popular Ideal para el próximo feriado.\n",
      "\n",
      "El volcán Cotopaxi es un destino de senderismo popular Ideal para el próximo feriado.\n",
      "\n",
      "Montañita se llena de surfistas durante los feriados Ideal para el próximo feriado.\n",
      "\n",
      "El Parque Nacional Cajas invita a caminatas entre lagunas Ideal para el próximo feriado.\n",
      "\n",
      "Las Islas Galápagos atraen visitantes por su biodiversidad única Perfecto para avistamiento de aves.\n",
      "\n",
      "Ecuador es un país megadiverso, ideal para el turismo ecológico Ideal para el próximo feriado.\n",
      "\n",
      "Las Islas Galápagos atraen visitantes por su biodiversidad única Un lugar sorprendente para visitar.\n",
      "\n",
      "Las Islas Galápagos atraen visitantes por su biodiversidad única Un lugar tranquilo para visitar.\n",
      "\n",
      "Las Islas Galápagos atraen visitantes por su biodiversidad única Un lugar espectacular para visitar.\n",
      "\n",
      "Cuenca deslumbra con su arquitectura colonial y gastronomía Ideal para el próximo feriado.\n",
      "\n",
      "Los turistas disfrutan las fiestas y gastronomía típica local Ideal para el próximo feriado.\n",
      "\n",
      "Cuenca deslumbra con su arquitectura colonial y gastronomía Ideal para el próximo feriado.\n",
      "\n",
      "Durante el feriado, muchos visitan la Amazonía ecuatoriana Un lugar increíble para visitar.\n",
      "\n",
      "Las Islas Galápagos atraen visitantes por su biodiversidad única Perfecto para avistamiento de aves.\n",
      "\n",
      "La Ruta del Spondylus conecta playas famosas como Montañita Ideal para el próximo feriado.\n",
      "\n",
      "Baños de Agua Santa ofrece deportes de aventura como rafting\n",
      "\n",
      "El volcán Cotopaxi es un destino de senderismo popular Ideal para el próximo feriado.\n",
      "\n",
      "Baños de Agua Santa ofrece deportes de aventura como rafting Perfecto para canopy.\n",
      "\n",
      "Baños de Agua Santa ofrece deportes de aventura como rafting Un lugar famoso para visitar.\n",
      "\n",
      "Quito tiene un centro histórico Patrimonio de la Humanidad Ideal para el próximo feriado.\n",
      "\n",
      "Baños de Agua Santa ofrece deportes de aventura como rafting Una experiencia inolvidable.\n",
      "\n",
      "Ecuador es un país megadiverso, ideal para el turismo ecológico Ideal para el próximo feriado.\n",
      "\n",
      "Montañita se llena de surfistas durante los feriados Ideal para el próximo feriado.\n",
      "\n",
      "Vilcabamba atrae visitantes interesados en longevidad y naturaleza Ideal para el próximo feriado.\n",
      "\n",
      "Baños de Agua Santa ofrece deportes de aventura como rafting Un lugar tranquilo para visitar.\n",
      "\n",
      "Las Islas Galápagos atraen visitantes por su biodiversidad única Perfecto para canopy.\n",
      "\n",
      "Baños de Agua Santa ofrece deportes de aventura como rafting Perfecto para canopy.\n",
      "\n"
     ]
    }
   ],
   "source": [
    "results500 = query(\"galápagos feriado Aventura\")\n",
    "for result in results500:\n",
    "    print(result)"
   ]
  },
  {
   "cell_type": "markdown",
   "id": "ac855bee",
   "metadata": {
    "papermill": {
     "duration": 0.005044,
     "end_time": "2025-04-29T03:02:26.952408",
     "exception": false,
     "start_time": "2025-04-29T03:02:26.947364",
     "status": "completed"
    },
    "tags": []
   },
   "source": [
    "## Speedup\n",
    "El factor SpeedUp mide cómo de efectiva\n",
    "resulta ser la paralelización de un programa fuente frente a la versión secuencial del\n",
    "mismo\n",
    "\n",
    "speedUp = tiempo_secuencial / tiempo_paralelo\n",
    "\n",
    "Para el ejercicio consideraremos el corpus de 500 documentos y buscando la palabra \"feriado\"  \n",
    "\n",
    "Datos obtenidos para realizar los calculos  \n",
    "Tiempo secuencial: 0.0040290355682373  \n",
    "Tiempo paralelo: 0.0000665187835693359  \n",
    "seepud: 60.56989  \n",
    "\n",
    "El método paralelo es aproximadamente 60 veces más rápido que el método secuencial para realizar la misma tarea."
   ]
  }
 ],
 "metadata": {
  "kaggle": {
   "accelerator": "none",
   "dataSources": [
    {
     "datasetId": 7276255,
     "sourceId": 11601710,
     "sourceType": "datasetVersion"
    }
   ],
   "dockerImageVersionId": 31012,
   "isGpuEnabled": false,
   "isInternetEnabled": false,
   "language": "python",
   "sourceType": "notebook"
  },
  "kernelspec": {
   "display_name": "Python 3",
   "language": "python",
   "name": "python3"
  },
  "language_info": {
   "codemirror_mode": {
    "name": "ipython",
    "version": 3
   },
   "file_extension": ".py",
   "mimetype": "text/x-python",
   "name": "python",
   "nbconvert_exporter": "python",
   "pygments_lexer": "ipython3",
   "version": "3.11.11"
  },
  "papermill": {
   "default_parameters": {},
   "duration": 9.312983,
   "end_time": "2025-04-29T03:02:30.452097",
   "environment_variables": {},
   "exception": null,
   "input_path": "__notebook__.ipynb",
   "output_path": "__notebook__.ipynb",
   "parameters": {},
   "start_time": "2025-04-29T03:02:21.139114",
   "version": "2.6.0"
  }
 },
 "nbformat": 4,
 "nbformat_minor": 5
}
